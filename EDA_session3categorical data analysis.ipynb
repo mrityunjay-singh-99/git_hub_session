{
 "cells": [
  {
   "cell_type": "code",
   "execution_count": 1,
   "id": "9ad9641a-c7ef-41f7-91c2-8d03a795af8f",
   "metadata": {},
   "outputs": [],
   "source": [
    "#read the packages\n",
    "#read the data\n",
    "#catgorical and numerical"
   ]
  },
  {
   "cell_type": "code",
   "execution_count": 21,
   "id": "529ee7cb-011e-4a94-ba00-2db1ff431d37",
   "metadata": {},
   "outputs": [],
   "source": [
    "import pandas as pd\n",
    "import numpy as np\n",
    "import matplotlib.pyplot as plt\n",
    "import seaborn as sns"
   ]
  },
  {
   "cell_type": "code",
   "execution_count": 22,
   "id": "a9f5d606-56a9-4200-aed7-1cfd16bb5a9b",
   "metadata": {},
   "outputs": [
    {
     "data": {
      "text/html": [
       "<div>\n",
       "<style scoped>\n",
       "    .dataframe tbody tr th:only-of-type {\n",
       "        vertical-align: middle;\n",
       "    }\n",
       "\n",
       "    .dataframe tbody tr th {\n",
       "        vertical-align: top;\n",
       "    }\n",
       "\n",
       "    .dataframe thead th {\n",
       "        text-align: right;\n",
       "    }\n",
       "</style>\n",
       "<table border=\"1\" class=\"dataframe\">\n",
       "  <thead>\n",
       "    <tr style=\"text-align: right;\">\n",
       "      <th></th>\n",
       "      <th>case_id</th>\n",
       "      <th>continent</th>\n",
       "      <th>education_of_employee</th>\n",
       "      <th>has_job_experience</th>\n",
       "      <th>requires_job_training</th>\n",
       "      <th>no_of_employees</th>\n",
       "      <th>yr_of_estab</th>\n",
       "      <th>region_of_employment</th>\n",
       "      <th>prevailing_wage</th>\n",
       "      <th>unit_of_wage</th>\n",
       "      <th>full_time_position</th>\n",
       "      <th>case_status</th>\n",
       "    </tr>\n",
       "  </thead>\n",
       "  <tbody>\n",
       "    <tr>\n",
       "      <th>0</th>\n",
       "      <td>EZYV01</td>\n",
       "      <td>Asia</td>\n",
       "      <td>High School</td>\n",
       "      <td>N</td>\n",
       "      <td>N</td>\n",
       "      <td>14513</td>\n",
       "      <td>2007</td>\n",
       "      <td>West</td>\n",
       "      <td>592.2029</td>\n",
       "      <td>Hour</td>\n",
       "      <td>Y</td>\n",
       "      <td>Denied</td>\n",
       "    </tr>\n",
       "    <tr>\n",
       "      <th>1</th>\n",
       "      <td>EZYV02</td>\n",
       "      <td>Asia</td>\n",
       "      <td>Master's</td>\n",
       "      <td>Y</td>\n",
       "      <td>N</td>\n",
       "      <td>2412</td>\n",
       "      <td>2002</td>\n",
       "      <td>Northeast</td>\n",
       "      <td>83425.6500</td>\n",
       "      <td>Year</td>\n",
       "      <td>Y</td>\n",
       "      <td>Certified</td>\n",
       "    </tr>\n",
       "    <tr>\n",
       "      <th>2</th>\n",
       "      <td>EZYV03</td>\n",
       "      <td>Asia</td>\n",
       "      <td>Bachelor's</td>\n",
       "      <td>N</td>\n",
       "      <td>Y</td>\n",
       "      <td>44444</td>\n",
       "      <td>2008</td>\n",
       "      <td>West</td>\n",
       "      <td>122996.8600</td>\n",
       "      <td>Year</td>\n",
       "      <td>Y</td>\n",
       "      <td>Denied</td>\n",
       "    </tr>\n",
       "    <tr>\n",
       "      <th>3</th>\n",
       "      <td>EZYV04</td>\n",
       "      <td>Asia</td>\n",
       "      <td>Bachelor's</td>\n",
       "      <td>N</td>\n",
       "      <td>N</td>\n",
       "      <td>98</td>\n",
       "      <td>1897</td>\n",
       "      <td>West</td>\n",
       "      <td>83434.0300</td>\n",
       "      <td>Year</td>\n",
       "      <td>Y</td>\n",
       "      <td>Denied</td>\n",
       "    </tr>\n",
       "    <tr>\n",
       "      <th>4</th>\n",
       "      <td>EZYV05</td>\n",
       "      <td>Africa</td>\n",
       "      <td>Master's</td>\n",
       "      <td>Y</td>\n",
       "      <td>N</td>\n",
       "      <td>1082</td>\n",
       "      <td>2005</td>\n",
       "      <td>South</td>\n",
       "      <td>149907.3900</td>\n",
       "      <td>Year</td>\n",
       "      <td>Y</td>\n",
       "      <td>Certified</td>\n",
       "    </tr>\n",
       "    <tr>\n",
       "      <th>...</th>\n",
       "      <td>...</td>\n",
       "      <td>...</td>\n",
       "      <td>...</td>\n",
       "      <td>...</td>\n",
       "      <td>...</td>\n",
       "      <td>...</td>\n",
       "      <td>...</td>\n",
       "      <td>...</td>\n",
       "      <td>...</td>\n",
       "      <td>...</td>\n",
       "      <td>...</td>\n",
       "      <td>...</td>\n",
       "    </tr>\n",
       "    <tr>\n",
       "      <th>25475</th>\n",
       "      <td>EZYV25476</td>\n",
       "      <td>Asia</td>\n",
       "      <td>Bachelor's</td>\n",
       "      <td>Y</td>\n",
       "      <td>Y</td>\n",
       "      <td>2601</td>\n",
       "      <td>2008</td>\n",
       "      <td>South</td>\n",
       "      <td>77092.5700</td>\n",
       "      <td>Year</td>\n",
       "      <td>Y</td>\n",
       "      <td>Certified</td>\n",
       "    </tr>\n",
       "    <tr>\n",
       "      <th>25476</th>\n",
       "      <td>EZYV25477</td>\n",
       "      <td>Asia</td>\n",
       "      <td>High School</td>\n",
       "      <td>Y</td>\n",
       "      <td>N</td>\n",
       "      <td>3274</td>\n",
       "      <td>2006</td>\n",
       "      <td>Northeast</td>\n",
       "      <td>279174.7900</td>\n",
       "      <td>Year</td>\n",
       "      <td>Y</td>\n",
       "      <td>Certified</td>\n",
       "    </tr>\n",
       "    <tr>\n",
       "      <th>25477</th>\n",
       "      <td>EZYV25478</td>\n",
       "      <td>Asia</td>\n",
       "      <td>Master's</td>\n",
       "      <td>Y</td>\n",
       "      <td>N</td>\n",
       "      <td>1121</td>\n",
       "      <td>1910</td>\n",
       "      <td>South</td>\n",
       "      <td>146298.8500</td>\n",
       "      <td>Year</td>\n",
       "      <td>N</td>\n",
       "      <td>Certified</td>\n",
       "    </tr>\n",
       "    <tr>\n",
       "      <th>25478</th>\n",
       "      <td>EZYV25479</td>\n",
       "      <td>Asia</td>\n",
       "      <td>Master's</td>\n",
       "      <td>Y</td>\n",
       "      <td>Y</td>\n",
       "      <td>1918</td>\n",
       "      <td>1887</td>\n",
       "      <td>West</td>\n",
       "      <td>86154.7700</td>\n",
       "      <td>Year</td>\n",
       "      <td>Y</td>\n",
       "      <td>Certified</td>\n",
       "    </tr>\n",
       "    <tr>\n",
       "      <th>25479</th>\n",
       "      <td>EZYV25480</td>\n",
       "      <td>Asia</td>\n",
       "      <td>Bachelor's</td>\n",
       "      <td>Y</td>\n",
       "      <td>N</td>\n",
       "      <td>3195</td>\n",
       "      <td>1960</td>\n",
       "      <td>Midwest</td>\n",
       "      <td>70876.9100</td>\n",
       "      <td>Year</td>\n",
       "      <td>Y</td>\n",
       "      <td>Certified</td>\n",
       "    </tr>\n",
       "  </tbody>\n",
       "</table>\n",
       "<p>25480 rows × 12 columns</p>\n",
       "</div>"
      ],
      "text/plain": [
       "         case_id continent education_of_employee has_job_experience  \\\n",
       "0         EZYV01      Asia           High School                  N   \n",
       "1         EZYV02      Asia              Master's                  Y   \n",
       "2         EZYV03      Asia            Bachelor's                  N   \n",
       "3         EZYV04      Asia            Bachelor's                  N   \n",
       "4         EZYV05    Africa              Master's                  Y   \n",
       "...          ...       ...                   ...                ...   \n",
       "25475  EZYV25476      Asia            Bachelor's                  Y   \n",
       "25476  EZYV25477      Asia           High School                  Y   \n",
       "25477  EZYV25478      Asia              Master's                  Y   \n",
       "25478  EZYV25479      Asia              Master's                  Y   \n",
       "25479  EZYV25480      Asia            Bachelor's                  Y   \n",
       "\n",
       "      requires_job_training  no_of_employees  yr_of_estab  \\\n",
       "0                         N            14513         2007   \n",
       "1                         N             2412         2002   \n",
       "2                         Y            44444         2008   \n",
       "3                         N               98         1897   \n",
       "4                         N             1082         2005   \n",
       "...                     ...              ...          ...   \n",
       "25475                     Y             2601         2008   \n",
       "25476                     N             3274         2006   \n",
       "25477                     N             1121         1910   \n",
       "25478                     Y             1918         1887   \n",
       "25479                     N             3195         1960   \n",
       "\n",
       "      region_of_employment  prevailing_wage unit_of_wage full_time_position  \\\n",
       "0                     West         592.2029         Hour                  Y   \n",
       "1                Northeast       83425.6500         Year                  Y   \n",
       "2                     West      122996.8600         Year                  Y   \n",
       "3                     West       83434.0300         Year                  Y   \n",
       "4                    South      149907.3900         Year                  Y   \n",
       "...                    ...              ...          ...                ...   \n",
       "25475                South       77092.5700         Year                  Y   \n",
       "25476            Northeast      279174.7900         Year                  Y   \n",
       "25477                South      146298.8500         Year                  N   \n",
       "25478                 West       86154.7700         Year                  Y   \n",
       "25479              Midwest       70876.9100         Year                  Y   \n",
       "\n",
       "      case_status  \n",
       "0          Denied  \n",
       "1       Certified  \n",
       "2          Denied  \n",
       "3          Denied  \n",
       "4       Certified  \n",
       "...           ...  \n",
       "25475   Certified  \n",
       "25476   Certified  \n",
       "25477   Certified  \n",
       "25478   Certified  \n",
       "25479   Certified  \n",
       "\n",
       "[25480 rows x 12 columns]"
      ]
     },
     "execution_count": 22,
     "metadata": {},
     "output_type": "execute_result"
    }
   ],
   "source": [
    "path=r\"C:\\Users\\Mrityunjay\\Desktop\\Data science naresh it\\Class notes by me\\Visadataset.csv\"\n",
    "visa_df=pd.read_csv(path)\n",
    "visa_df"
   ]
  },
  {
   "cell_type": "code",
   "execution_count": 24,
   "id": "a644b620-967d-44b3-9d50-4850e81c6ffa",
   "metadata": {},
   "outputs": [
    {
     "data": {
      "text/plain": [
       "case_id                   object\n",
       "continent                 object\n",
       "education_of_employee     object\n",
       "has_job_experience        object\n",
       "requires_job_training     object\n",
       "no_of_employees            int64\n",
       "yr_of_estab                int64\n",
       "region_of_employment      object\n",
       "prevailing_wage          float64\n",
       "unit_of_wage              object\n",
       "full_time_position        object\n",
       "case_status               object\n",
       "dtype: object"
      ]
     },
     "execution_count": 24,
     "metadata": {},
     "output_type": "execute_result"
    }
   ],
   "source": [
    "visa_df.dtypes"
   ]
  },
  {
   "cell_type": "code",
   "execution_count": 7,
   "id": "4c068735-4fe4-422e-a061-de6afa804546",
   "metadata": {},
   "outputs": [
    {
     "data": {
      "text/plain": [
       "([dtype('O'),\n",
       "  dtype('O'),\n",
       "  dtype('O'),\n",
       "  dtype('O'),\n",
       "  dtype('O'),\n",
       "  dtype('O'),\n",
       "  dtype('O'),\n",
       "  dtype('O'),\n",
       "  dtype('O')],\n",
       " [dtype('int64'), dtype('int64'), dtype('float64')])"
      ]
     },
     "execution_count": 7,
     "metadata": {},
     "output_type": "execute_result"
    }
   ],
   "source": [
    "cat=[]\n",
    "num=[]\n",
    "for i,j in dict(visa_df.dtypes).items():\n",
    "    if j==\"object\":\n",
    "        cat.append(j)\n",
    "    else:\n",
    "        num.append(j)\n",
    "cat,num"
   ]
  },
  {
   "cell_type": "code",
   "execution_count": 9,
   "id": "8a2ec51a-f285-40e1-8138-ee79b839bcce",
   "metadata": {},
   "outputs": [],
   "source": [
    "#divide into categorical and numerical\n",
    "types=dict(visa_df.dtypes)\n",
    "cat_list=[key for key,value in types.items() if value==\"object\"]\n",
    "num_list=[key for key,value in types.items() if value!=\"object\"]"
   ]
  },
  {
   "cell_type": "code",
   "execution_count": 7,
   "id": "33cb631d-2bac-4682-85db-30a5ad46d8d5",
   "metadata": {},
   "outputs": [],
   "source": [
    "cat_list1=visa_df.select_dtypes(include=\"object\").columns\n",
    "num_list1=visa_df.select_dtypes(exclude=\"object\").columns"
   ]
  },
  {
   "cell_type": "code",
   "execution_count": 11,
   "id": "c182a710-2c94-44ae-b2da-d4715b703b63",
   "metadata": {},
   "outputs": [
    {
     "ename": "NameError",
     "evalue": "name 'cat_list1' is not defined",
     "output_type": "error",
     "traceback": [
      "\u001b[1;31m---------------------------------------------------------------------------\u001b[0m",
      "\u001b[1;31mNameError\u001b[0m                                 Traceback (most recent call last)",
      "Cell \u001b[1;32mIn[11], line 1\u001b[0m\n\u001b[1;32m----> 1\u001b[0m cat_list1\n",
      "\u001b[1;31mNameError\u001b[0m: name 'cat_list1' is not defined"
     ]
    }
   ],
   "source": [
    "cat_list1"
   ]
  },
  {
   "cell_type": "code",
   "execution_count": 9,
   "id": "41c9cc21-ee3e-40a8-a7e2-e6e516605540",
   "metadata": {},
   "outputs": [
    {
     "data": {
      "text/plain": [
       "Index(['no_of_employees', 'yr_of_estab', 'prevailing_wage'], dtype='object')"
      ]
     },
     "execution_count": 9,
     "metadata": {},
     "output_type": "execute_result"
    }
   ],
   "source": [
    "num_list1"
   ]
  },
  {
   "cell_type": "code",
   "execution_count": 13,
   "id": "f26a7141-b665-416b-8777-4dffc3165c4f",
   "metadata": {},
   "outputs": [
    {
     "data": {
      "text/plain": [
       "0          Asia\n",
       "1          Asia\n",
       "2          Asia\n",
       "3          Asia\n",
       "4        Africa\n",
       "          ...  \n",
       "25475      Asia\n",
       "25476      Asia\n",
       "25477      Asia\n",
       "25478      Asia\n",
       "25479      Asia\n",
       "Name: continent, Length: 25480, dtype: object"
      ]
     },
     "execution_count": 13,
     "metadata": {},
     "output_type": "execute_result"
    }
   ],
   "source": [
    "#how to select a specific column\n",
    "visa_df['continent']  #serise"
   ]
  },
  {
   "cell_type": "code",
   "execution_count": 11,
   "id": "23e67dc3-c374-4da2-8e7e-e6c5ccdf2ff7",
   "metadata": {},
   "outputs": [
    {
     "data": {
      "text/html": [
       "<div>\n",
       "<style scoped>\n",
       "    .dataframe tbody tr th:only-of-type {\n",
       "        vertical-align: middle;\n",
       "    }\n",
       "\n",
       "    .dataframe tbody tr th {\n",
       "        vertical-align: top;\n",
       "    }\n",
       "\n",
       "    .dataframe thead th {\n",
       "        text-align: right;\n",
       "    }\n",
       "</style>\n",
       "<table border=\"1\" class=\"dataframe\">\n",
       "  <thead>\n",
       "    <tr style=\"text-align: right;\">\n",
       "      <th></th>\n",
       "      <th>continent</th>\n",
       "    </tr>\n",
       "  </thead>\n",
       "  <tbody>\n",
       "    <tr>\n",
       "      <th>0</th>\n",
       "      <td>Asia</td>\n",
       "    </tr>\n",
       "    <tr>\n",
       "      <th>1</th>\n",
       "      <td>Asia</td>\n",
       "    </tr>\n",
       "    <tr>\n",
       "      <th>2</th>\n",
       "      <td>Asia</td>\n",
       "    </tr>\n",
       "    <tr>\n",
       "      <th>3</th>\n",
       "      <td>Asia</td>\n",
       "    </tr>\n",
       "    <tr>\n",
       "      <th>4</th>\n",
       "      <td>Africa</td>\n",
       "    </tr>\n",
       "    <tr>\n",
       "      <th>...</th>\n",
       "      <td>...</td>\n",
       "    </tr>\n",
       "    <tr>\n",
       "      <th>25475</th>\n",
       "      <td>Asia</td>\n",
       "    </tr>\n",
       "    <tr>\n",
       "      <th>25476</th>\n",
       "      <td>Asia</td>\n",
       "    </tr>\n",
       "    <tr>\n",
       "      <th>25477</th>\n",
       "      <td>Asia</td>\n",
       "    </tr>\n",
       "    <tr>\n",
       "      <th>25478</th>\n",
       "      <td>Asia</td>\n",
       "    </tr>\n",
       "    <tr>\n",
       "      <th>25479</th>\n",
       "      <td>Asia</td>\n",
       "    </tr>\n",
       "  </tbody>\n",
       "</table>\n",
       "<p>25480 rows × 1 columns</p>\n",
       "</div>"
      ],
      "text/plain": [
       "      continent\n",
       "0          Asia\n",
       "1          Asia\n",
       "2          Asia\n",
       "3          Asia\n",
       "4        Africa\n",
       "...         ...\n",
       "25475      Asia\n",
       "25476      Asia\n",
       "25477      Asia\n",
       "25478      Asia\n",
       "25479      Asia\n",
       "\n",
       "[25480 rows x 1 columns]"
      ]
     },
     "execution_count": 11,
     "metadata": {},
     "output_type": "execute_result"
    }
   ],
   "source": [
    "visa_df[['continent']]  #dataframe"
   ]
  },
  {
   "cell_type": "code",
   "execution_count": 12,
   "id": "8d361725-32a1-4408-bb3f-ccd69e4faf34",
   "metadata": {},
   "outputs": [
    {
     "data": {
      "text/html": [
       "<div>\n",
       "<style scoped>\n",
       "    .dataframe tbody tr th:only-of-type {\n",
       "        vertical-align: middle;\n",
       "    }\n",
       "\n",
       "    .dataframe tbody tr th {\n",
       "        vertical-align: top;\n",
       "    }\n",
       "\n",
       "    .dataframe thead th {\n",
       "        text-align: right;\n",
       "    }\n",
       "</style>\n",
       "<table border=\"1\" class=\"dataframe\">\n",
       "  <thead>\n",
       "    <tr style=\"text-align: right;\">\n",
       "      <th></th>\n",
       "      <th>continent</th>\n",
       "    </tr>\n",
       "  </thead>\n",
       "  <tbody>\n",
       "    <tr>\n",
       "      <th>0</th>\n",
       "      <td>Asia</td>\n",
       "    </tr>\n",
       "    <tr>\n",
       "      <th>1</th>\n",
       "      <td>Asia</td>\n",
       "    </tr>\n",
       "    <tr>\n",
       "      <th>2</th>\n",
       "      <td>Asia</td>\n",
       "    </tr>\n",
       "    <tr>\n",
       "      <th>3</th>\n",
       "      <td>Asia</td>\n",
       "    </tr>\n",
       "    <tr>\n",
       "      <th>4</th>\n",
       "      <td>Africa</td>\n",
       "    </tr>\n",
       "    <tr>\n",
       "      <th>...</th>\n",
       "      <td>...</td>\n",
       "    </tr>\n",
       "    <tr>\n",
       "      <th>25475</th>\n",
       "      <td>Asia</td>\n",
       "    </tr>\n",
       "    <tr>\n",
       "      <th>25476</th>\n",
       "      <td>Asia</td>\n",
       "    </tr>\n",
       "    <tr>\n",
       "      <th>25477</th>\n",
       "      <td>Asia</td>\n",
       "    </tr>\n",
       "    <tr>\n",
       "      <th>25478</th>\n",
       "      <td>Asia</td>\n",
       "    </tr>\n",
       "    <tr>\n",
       "      <th>25479</th>\n",
       "      <td>Asia</td>\n",
       "    </tr>\n",
       "  </tbody>\n",
       "</table>\n",
       "<p>25480 rows × 1 columns</p>\n",
       "</div>"
      ],
      "text/plain": [
       "      continent\n",
       "0          Asia\n",
       "1          Asia\n",
       "2          Asia\n",
       "3          Asia\n",
       "4        Africa\n",
       "...         ...\n",
       "25475      Asia\n",
       "25476      Asia\n",
       "25477      Asia\n",
       "25478      Asia\n",
       "25479      Asia\n",
       "\n",
       "[25480 rows x 1 columns]"
      ]
     },
     "execution_count": 12,
     "metadata": {},
     "output_type": "execute_result"
    }
   ],
   "source": [
    "visa_df.loc[:,['continent']]"
   ]
  },
  {
   "cell_type": "code",
   "execution_count": 13,
   "id": "db61be13-f8da-4cec-969b-d495a0cada19",
   "metadata": {},
   "outputs": [
    {
     "data": {
      "text/plain": [
       "0          Asia\n",
       "1          Asia\n",
       "2          Asia\n",
       "3          Asia\n",
       "4        Africa\n",
       "          ...  \n",
       "25475      Asia\n",
       "25476      Asia\n",
       "25477      Asia\n",
       "25478      Asia\n",
       "25479      Asia\n",
       "Name: continent, Length: 25480, dtype: object"
      ]
     },
     "execution_count": 13,
     "metadata": {},
     "output_type": "execute_result"
    }
   ],
   "source": [
    "visa_df.continent"
   ]
  },
  {
   "cell_type": "code",
   "execution_count": 14,
   "id": "6bc7fe57-feaf-43db-99c0-1cd909fa5157",
   "metadata": {},
   "outputs": [
    {
     "data": {
      "text/html": [
       "<div>\n",
       "<style scoped>\n",
       "    .dataframe tbody tr th:only-of-type {\n",
       "        vertical-align: middle;\n",
       "    }\n",
       "\n",
       "    .dataframe tbody tr th {\n",
       "        vertical-align: top;\n",
       "    }\n",
       "\n",
       "    .dataframe thead th {\n",
       "        text-align: right;\n",
       "    }\n",
       "</style>\n",
       "<table border=\"1\" class=\"dataframe\">\n",
       "  <thead>\n",
       "    <tr style=\"text-align: right;\">\n",
       "      <th></th>\n",
       "      <th>continent</th>\n",
       "      <th>no_of_employees</th>\n",
       "    </tr>\n",
       "  </thead>\n",
       "  <tbody>\n",
       "    <tr>\n",
       "      <th>0</th>\n",
       "      <td>Asia</td>\n",
       "      <td>14513</td>\n",
       "    </tr>\n",
       "    <tr>\n",
       "      <th>1</th>\n",
       "      <td>Asia</td>\n",
       "      <td>2412</td>\n",
       "    </tr>\n",
       "    <tr>\n",
       "      <th>2</th>\n",
       "      <td>Asia</td>\n",
       "      <td>44444</td>\n",
       "    </tr>\n",
       "    <tr>\n",
       "      <th>3</th>\n",
       "      <td>Asia</td>\n",
       "      <td>98</td>\n",
       "    </tr>\n",
       "    <tr>\n",
       "      <th>4</th>\n",
       "      <td>Africa</td>\n",
       "      <td>1082</td>\n",
       "    </tr>\n",
       "    <tr>\n",
       "      <th>...</th>\n",
       "      <td>...</td>\n",
       "      <td>...</td>\n",
       "    </tr>\n",
       "    <tr>\n",
       "      <th>25475</th>\n",
       "      <td>Asia</td>\n",
       "      <td>2601</td>\n",
       "    </tr>\n",
       "    <tr>\n",
       "      <th>25476</th>\n",
       "      <td>Asia</td>\n",
       "      <td>3274</td>\n",
       "    </tr>\n",
       "    <tr>\n",
       "      <th>25477</th>\n",
       "      <td>Asia</td>\n",
       "      <td>1121</td>\n",
       "    </tr>\n",
       "    <tr>\n",
       "      <th>25478</th>\n",
       "      <td>Asia</td>\n",
       "      <td>1918</td>\n",
       "    </tr>\n",
       "    <tr>\n",
       "      <th>25479</th>\n",
       "      <td>Asia</td>\n",
       "      <td>3195</td>\n",
       "    </tr>\n",
       "  </tbody>\n",
       "</table>\n",
       "<p>25480 rows × 2 columns</p>\n",
       "</div>"
      ],
      "text/plain": [
       "      continent  no_of_employees\n",
       "0          Asia            14513\n",
       "1          Asia             2412\n",
       "2          Asia            44444\n",
       "3          Asia               98\n",
       "4        Africa             1082\n",
       "...         ...              ...\n",
       "25475      Asia             2601\n",
       "25476      Asia             3274\n",
       "25477      Asia             1121\n",
       "25478      Asia             1918\n",
       "25479      Asia             3195\n",
       "\n",
       "[25480 rows x 2 columns]"
      ]
     },
     "execution_count": 14,
     "metadata": {},
     "output_type": "execute_result"
    }
   ],
   "source": [
    "visa_df.loc[:,['continent','no_of_employees']]"
   ]
  },
  {
   "cell_type": "code",
   "execution_count": 15,
   "id": "1f6e59bb-d814-4f88-8854-6d0677ec9aa2",
   "metadata": {},
   "outputs": [],
   "source": [
    "# read multiple column\n",
    "\n",
    "#whenever we see multiple means recall the list\n",
    "\n",
    "# keep the columns\n",
    "\n",
    "#pass the list"
   ]
  },
  {
   "cell_type": "markdown",
   "id": "6e4a05ee-4a5c-4e32-9701-6b7a2eb0f31b",
   "metadata": {},
   "source": [
    "$task=1$"
   ]
  },
  {
   "cell_type": "code",
   "execution_count": 17,
   "id": "cd6f6edf-c6b9-43c4-9490-b1ba023fed15",
   "metadata": {},
   "outputs": [],
   "source": [
    "#find the number of appicant continent wise\n",
    "#there is a a asia continent avilable \n",
    "# how many of applicant from out of 25480\n"
   ]
  },
  {
   "cell_type": "code",
   "execution_count": 18,
   "id": "2c2ef15d-e583-4463-aef6-c0dcc7a4f627",
   "metadata": {},
   "outputs": [],
   "source": [
    "#unique method \n",
    "#unique will provided how many unique items are there in a particular table\n",
    "# "
   ]
  },
  {
   "cell_type": "code",
   "execution_count": 19,
   "id": "8882d965-67e7-483c-9c91-1431c32e39dc",
   "metadata": {},
   "outputs": [
    {
     "data": {
      "text/plain": [
       "array(['Asia', 'Africa', 'North America', 'Europe', 'South America',\n",
       "       'Oceania'], dtype=object)"
      ]
     },
     "execution_count": 19,
     "metadata": {},
     "output_type": "execute_result"
    }
   ],
   "source": [
    "visa_df[\"continent\"].unique()"
   ]
  },
  {
   "cell_type": "code",
   "execution_count": 20,
   "id": "b090bb30-eed2-4f0b-8539-358b089106f6",
   "metadata": {},
   "outputs": [
    {
     "data": {
      "text/plain": [
       "6"
      ]
     },
     "execution_count": 20,
     "metadata": {},
     "output_type": "execute_result"
    }
   ],
   "source": [
    "len(visa_df[\"continent\"].unique())"
   ]
  },
  {
   "cell_type": "code",
   "execution_count": 21,
   "id": "d3f814e8-8284-4635-bc79-a2c96c78c6fc",
   "metadata": {},
   "outputs": [
    {
     "ename": "SyntaxError",
     "evalue": "invalid syntax (847228127.py, line 1)",
     "output_type": "error",
     "traceback": [
      "\u001b[1;36m  Cell \u001b[1;32mIn[21], line 1\u001b[1;36m\u001b[0m\n\u001b[1;33m    **numique**\u001b[0m\n\u001b[1;37m    ^\u001b[0m\n\u001b[1;31mSyntaxError\u001b[0m\u001b[1;31m:\u001b[0m invalid syntax\n"
     ]
    }
   ],
   "source": [
    "**numique**\n",
    "- gives count of unique items \n"
   ]
  },
  {
   "cell_type": "code",
   "execution_count": null,
   "id": "1a4b9ef5-c108-40a7-b6f2-4e53525b1d4e",
   "metadata": {},
   "outputs": [],
   "source": [
    "visa_df[\"continent\"].nunique()"
   ]
  },
  {
   "cell_type": "code",
   "execution_count": null,
   "id": "224d89ca-7e0b-4c51-b88e-17c1946c4c92",
   "metadata": {},
   "outputs": [],
   "source": [
    "con=visa_df[\"continent\"]==\"Asia\"\n",
    "con"
   ]
  },
  {
   "cell_type": "code",
   "execution_count": null,
   "id": "4440d225-8314-4f12-88d9-7a02732207eb",
   "metadata": {},
   "outputs": [],
   "source": [
    "visa_df[con]"
   ]
  },
  {
   "cell_type": "code",
   "execution_count": null,
   "id": "69823c95-ead2-414d-b9d5-8e10084ce788",
   "metadata": {},
   "outputs": [],
   "source": [
    "#read the data with specific column\n",
    "# apply the condition \n",
    "  # when will apply the condition python will give true false\n",
    "#in order to retrive true data \n",
    "#dataframe[condition]\n",
    "\n",
    "con= visa_df[\"continent\"]==\"Asia\"\n",
    "visa_df[con]"
   ]
  },
  {
   "cell_type": "markdown",
   "id": "9083ee14-a26a-4854-9de3-c6f7d09a9c40",
   "metadata": {},
   "source": []
  },
  {
   "cell_type": "code",
   "execution_count": null,
   "id": "8a1aa56b-e26a-490a-ad31-9bc31ee7731d",
   "metadata": {},
   "outputs": [],
   "source": [
    "for i in visa_df[\"continent\"].unique():\n",
    "    print(i)"
   ]
  },
  {
   "cell_type": "code",
   "execution_count": 1,
   "id": "8b506193-d9c2-4ff8-8bb4-9d2916074e6d",
   "metadata": {},
   "outputs": [
    {
     "ename": "NameError",
     "evalue": "name 'visa_df' is not defined",
     "output_type": "error",
     "traceback": [
      "\u001b[1;31m---------------------------------------------------------------------------\u001b[0m",
      "\u001b[1;31mNameError\u001b[0m                                 Traceback (most recent call last)",
      "Cell \u001b[1;32mIn[1], line 1\u001b[0m\n\u001b[1;32m----> 1\u001b[0m \u001b[38;5;28;01mfor\u001b[39;00m i \u001b[38;5;129;01min\u001b[39;00m visa_df[\u001b[38;5;124m\"\u001b[39m\u001b[38;5;124mcontinent\u001b[39m\u001b[38;5;124m\"\u001b[39m]\u001b[38;5;241m.\u001b[39munique():\n\u001b[0;32m      2\u001b[0m     \u001b[38;5;28mprint\u001b[39m(i)\n\u001b[0;32m      3\u001b[0m     con\u001b[38;5;241m=\u001b[39mvisa_df[\u001b[38;5;124m\"\u001b[39m\u001b[38;5;124mcontinent\u001b[39m\u001b[38;5;124m\"\u001b[39m]\u001b[38;5;241m==\u001b[39mi\n",
      "\u001b[1;31mNameError\u001b[0m: name 'visa_df' is not defined"
     ]
    }
   ],
   "source": [
    "for i in visa_df[\"continent\"].unique():\n",
    "    print(i)\n",
    "    con=visa_df[\"continent\"]==i\n",
    "    count=len(visa_df[con])\n",
    "    print(f\"the number of applicant from {i} is : {count}\")"
   ]
  },
  {
   "cell_type": "markdown",
   "id": "2df1a880-adf4-436c-8de8-9f42a014acdd",
   "metadata": {},
   "source": [
    "$Task=2$"
   ]
  },
  {
   "cell_type": "markdown",
   "id": "581163f6-3875-4857-8148-0482d706894f",
   "metadata": {},
   "source": [
    "- now insted of print count,take empyty list\n",
    "- save the value in a empty list\n",
    "- we already has unique continent list\n",
    "- we also having count list\n",
    "- create a dataframe"
   ]
  },
  {
   "cell_type": "code",
   "execution_count": null,
   "id": "42b3edd4-5f72-40fa-8dc5-33b81f35836c",
   "metadata": {},
   "outputs": [],
   "source": [
    "count_list=[]\n",
    "for i in visa_df[\"continent\"].unique():\n",
    "    count_list.append(i)\n",
    "cont=count_list\n",
    "pd.DataFrame(count_list)"
   ]
  },
  {
   "cell_type": "code",
   "execution_count": null,
   "id": "ec3b938e-4784-46a8-938d-cc75a677cc20",
   "metadata": {},
   "outputs": [],
   "source": [
    "count_list1=[]\n",
    "for i in visa_df[\"continent\"].unique():\n",
    "    #print(i)\n",
    "    con=visa_df[\"continent\"]==i\n",
    "    count=len(visa_df[con])\n",
    "    count_list1.append(count)\n",
    "num=count_list1\n",
    "num"
   ]
  },
  {
   "cell_type": "code",
   "execution_count": null,
   "id": "ef28fd7f-6e68-423e-8800-a96060d22a3d",
   "metadata": {},
   "outputs": [],
   "source": [
    "df =pd.DataFrame(zip(cont,num),columns=[\"country\",\"numof\"])\n",
    "df.to_csv(\"continent_df.csv\",index=False)"
   ]
  },
  {
   "cell_type": "code",
   "execution_count": null,
   "id": "3cd73225-2c1a-4699-9dd1-25e2fd42bb86",
   "metadata": {},
   "outputs": [],
   "source": [
    "pd.read_csv(\"continent_df.csv\")"
   ]
  },
  {
   "cell_type": "code",
   "execution_count": null,
   "id": "4e3d08e6-8fca-47fd-b592-d6445c240424",
   "metadata": {},
   "outputs": [],
   "source": [
    "#valuecount methods\n",
    "visa_df[\"continent\"].value_counts()"
   ]
  },
  {
   "cell_type": "code",
   "execution_count": null,
   "id": "ed026206-5692-4b99-a5fa-60602102d267",
   "metadata": {},
   "outputs": [],
   "source": [
    "#analytics vidiya hackthons"
   ]
  },
  {
   "cell_type": "code",
   "execution_count": null,
   "id": "402a80bb-4f15-44b3-beb4-6c24c6afa9b1",
   "metadata": {},
   "outputs": [],
   "source": [
    "file_path=r\"C:\\Users\\Mrityunjay\\Desktop\\Data science naresh it\\Class notes by me\\bank.csv\"\n",
    "bank_df=pd.read_csv(file_path,sep=\";\")\n",
    "bank_df"
   ]
  },
  {
   "cell_type": "code",
   "execution_count": 4,
   "id": "974f7014-6227-48bf-aa08-172df4ec36ff",
   "metadata": {},
   "outputs": [],
   "source": [
    "import pandas as pd \n",
    "import numpy as np\n"
   ]
  },
  {
   "cell_type": "code",
   "execution_count": 6,
   "id": "093de32e-0045-40da-9ee0-3a2dbd5ecfe5",
   "metadata": {},
   "outputs": [
    {
     "data": {
      "text/html": [
       "<div>\n",
       "<style scoped>\n",
       "    .dataframe tbody tr th:only-of-type {\n",
       "        vertical-align: middle;\n",
       "    }\n",
       "\n",
       "    .dataframe tbody tr th {\n",
       "        vertical-align: top;\n",
       "    }\n",
       "\n",
       "    .dataframe thead th {\n",
       "        text-align: right;\n",
       "    }\n",
       "</style>\n",
       "<table border=\"1\" class=\"dataframe\">\n",
       "  <thead>\n",
       "    <tr style=\"text-align: right;\">\n",
       "      <th></th>\n",
       "      <th>age</th>\n",
       "      <th>job</th>\n",
       "      <th>marital</th>\n",
       "      <th>education</th>\n",
       "      <th>default</th>\n",
       "      <th>balance</th>\n",
       "      <th>housing</th>\n",
       "      <th>loan</th>\n",
       "      <th>contact</th>\n",
       "      <th>day</th>\n",
       "      <th>month</th>\n",
       "      <th>duration</th>\n",
       "      <th>campaign</th>\n",
       "      <th>pdays</th>\n",
       "      <th>previous</th>\n",
       "      <th>poutcome</th>\n",
       "      <th>y</th>\n",
       "    </tr>\n",
       "  </thead>\n",
       "  <tbody>\n",
       "    <tr>\n",
       "      <th>0</th>\n",
       "      <td>30</td>\n",
       "      <td>unemployed</td>\n",
       "      <td>married</td>\n",
       "      <td>primary</td>\n",
       "      <td>no</td>\n",
       "      <td>1787</td>\n",
       "      <td>no</td>\n",
       "      <td>no</td>\n",
       "      <td>cellular</td>\n",
       "      <td>19</td>\n",
       "      <td>oct</td>\n",
       "      <td>79</td>\n",
       "      <td>1</td>\n",
       "      <td>-1</td>\n",
       "      <td>0</td>\n",
       "      <td>unknown</td>\n",
       "      <td>no</td>\n",
       "    </tr>\n",
       "    <tr>\n",
       "      <th>1</th>\n",
       "      <td>33</td>\n",
       "      <td>services</td>\n",
       "      <td>married</td>\n",
       "      <td>secondary</td>\n",
       "      <td>no</td>\n",
       "      <td>4789</td>\n",
       "      <td>yes</td>\n",
       "      <td>yes</td>\n",
       "      <td>cellular</td>\n",
       "      <td>11</td>\n",
       "      <td>may</td>\n",
       "      <td>220</td>\n",
       "      <td>1</td>\n",
       "      <td>339</td>\n",
       "      <td>4</td>\n",
       "      <td>failure</td>\n",
       "      <td>no</td>\n",
       "    </tr>\n",
       "    <tr>\n",
       "      <th>2</th>\n",
       "      <td>35</td>\n",
       "      <td>management</td>\n",
       "      <td>single</td>\n",
       "      <td>tertiary</td>\n",
       "      <td>no</td>\n",
       "      <td>1350</td>\n",
       "      <td>yes</td>\n",
       "      <td>no</td>\n",
       "      <td>cellular</td>\n",
       "      <td>16</td>\n",
       "      <td>apr</td>\n",
       "      <td>185</td>\n",
       "      <td>1</td>\n",
       "      <td>330</td>\n",
       "      <td>1</td>\n",
       "      <td>failure</td>\n",
       "      <td>no</td>\n",
       "    </tr>\n",
       "    <tr>\n",
       "      <th>3</th>\n",
       "      <td>30</td>\n",
       "      <td>management</td>\n",
       "      <td>married</td>\n",
       "      <td>tertiary</td>\n",
       "      <td>no</td>\n",
       "      <td>1476</td>\n",
       "      <td>yes</td>\n",
       "      <td>yes</td>\n",
       "      <td>unknown</td>\n",
       "      <td>3</td>\n",
       "      <td>jun</td>\n",
       "      <td>199</td>\n",
       "      <td>4</td>\n",
       "      <td>-1</td>\n",
       "      <td>0</td>\n",
       "      <td>unknown</td>\n",
       "      <td>no</td>\n",
       "    </tr>\n",
       "    <tr>\n",
       "      <th>4</th>\n",
       "      <td>59</td>\n",
       "      <td>blue-collar</td>\n",
       "      <td>married</td>\n",
       "      <td>secondary</td>\n",
       "      <td>no</td>\n",
       "      <td>0</td>\n",
       "      <td>yes</td>\n",
       "      <td>no</td>\n",
       "      <td>unknown</td>\n",
       "      <td>5</td>\n",
       "      <td>may</td>\n",
       "      <td>226</td>\n",
       "      <td>1</td>\n",
       "      <td>-1</td>\n",
       "      <td>0</td>\n",
       "      <td>unknown</td>\n",
       "      <td>no</td>\n",
       "    </tr>\n",
       "    <tr>\n",
       "      <th>...</th>\n",
       "      <td>...</td>\n",
       "      <td>...</td>\n",
       "      <td>...</td>\n",
       "      <td>...</td>\n",
       "      <td>...</td>\n",
       "      <td>...</td>\n",
       "      <td>...</td>\n",
       "      <td>...</td>\n",
       "      <td>...</td>\n",
       "      <td>...</td>\n",
       "      <td>...</td>\n",
       "      <td>...</td>\n",
       "      <td>...</td>\n",
       "      <td>...</td>\n",
       "      <td>...</td>\n",
       "      <td>...</td>\n",
       "      <td>...</td>\n",
       "    </tr>\n",
       "    <tr>\n",
       "      <th>4516</th>\n",
       "      <td>33</td>\n",
       "      <td>services</td>\n",
       "      <td>married</td>\n",
       "      <td>secondary</td>\n",
       "      <td>no</td>\n",
       "      <td>-333</td>\n",
       "      <td>yes</td>\n",
       "      <td>no</td>\n",
       "      <td>cellular</td>\n",
       "      <td>30</td>\n",
       "      <td>jul</td>\n",
       "      <td>329</td>\n",
       "      <td>5</td>\n",
       "      <td>-1</td>\n",
       "      <td>0</td>\n",
       "      <td>unknown</td>\n",
       "      <td>no</td>\n",
       "    </tr>\n",
       "    <tr>\n",
       "      <th>4517</th>\n",
       "      <td>57</td>\n",
       "      <td>self-employed</td>\n",
       "      <td>married</td>\n",
       "      <td>tertiary</td>\n",
       "      <td>yes</td>\n",
       "      <td>-3313</td>\n",
       "      <td>yes</td>\n",
       "      <td>yes</td>\n",
       "      <td>unknown</td>\n",
       "      <td>9</td>\n",
       "      <td>may</td>\n",
       "      <td>153</td>\n",
       "      <td>1</td>\n",
       "      <td>-1</td>\n",
       "      <td>0</td>\n",
       "      <td>unknown</td>\n",
       "      <td>no</td>\n",
       "    </tr>\n",
       "    <tr>\n",
       "      <th>4518</th>\n",
       "      <td>57</td>\n",
       "      <td>technician</td>\n",
       "      <td>married</td>\n",
       "      <td>secondary</td>\n",
       "      <td>no</td>\n",
       "      <td>295</td>\n",
       "      <td>no</td>\n",
       "      <td>no</td>\n",
       "      <td>cellular</td>\n",
       "      <td>19</td>\n",
       "      <td>aug</td>\n",
       "      <td>151</td>\n",
       "      <td>11</td>\n",
       "      <td>-1</td>\n",
       "      <td>0</td>\n",
       "      <td>unknown</td>\n",
       "      <td>no</td>\n",
       "    </tr>\n",
       "    <tr>\n",
       "      <th>4519</th>\n",
       "      <td>28</td>\n",
       "      <td>blue-collar</td>\n",
       "      <td>married</td>\n",
       "      <td>secondary</td>\n",
       "      <td>no</td>\n",
       "      <td>1137</td>\n",
       "      <td>no</td>\n",
       "      <td>no</td>\n",
       "      <td>cellular</td>\n",
       "      <td>6</td>\n",
       "      <td>feb</td>\n",
       "      <td>129</td>\n",
       "      <td>4</td>\n",
       "      <td>211</td>\n",
       "      <td>3</td>\n",
       "      <td>other</td>\n",
       "      <td>no</td>\n",
       "    </tr>\n",
       "    <tr>\n",
       "      <th>4520</th>\n",
       "      <td>44</td>\n",
       "      <td>entrepreneur</td>\n",
       "      <td>single</td>\n",
       "      <td>tertiary</td>\n",
       "      <td>no</td>\n",
       "      <td>1136</td>\n",
       "      <td>yes</td>\n",
       "      <td>yes</td>\n",
       "      <td>cellular</td>\n",
       "      <td>3</td>\n",
       "      <td>apr</td>\n",
       "      <td>345</td>\n",
       "      <td>2</td>\n",
       "      <td>249</td>\n",
       "      <td>7</td>\n",
       "      <td>other</td>\n",
       "      <td>no</td>\n",
       "    </tr>\n",
       "  </tbody>\n",
       "</table>\n",
       "<p>4521 rows × 17 columns</p>\n",
       "</div>"
      ],
      "text/plain": [
       "      age            job  marital  education default  balance housing loan  \\\n",
       "0      30     unemployed  married    primary      no     1787      no   no   \n",
       "1      33       services  married  secondary      no     4789     yes  yes   \n",
       "2      35     management   single   tertiary      no     1350     yes   no   \n",
       "3      30     management  married   tertiary      no     1476     yes  yes   \n",
       "4      59    blue-collar  married  secondary      no        0     yes   no   \n",
       "...   ...            ...      ...        ...     ...      ...     ...  ...   \n",
       "4516   33       services  married  secondary      no     -333     yes   no   \n",
       "4517   57  self-employed  married   tertiary     yes    -3313     yes  yes   \n",
       "4518   57     technician  married  secondary      no      295      no   no   \n",
       "4519   28    blue-collar  married  secondary      no     1137      no   no   \n",
       "4520   44   entrepreneur   single   tertiary      no     1136     yes  yes   \n",
       "\n",
       "       contact  day month  duration  campaign  pdays  previous poutcome   y  \n",
       "0     cellular   19   oct        79         1     -1         0  unknown  no  \n",
       "1     cellular   11   may       220         1    339         4  failure  no  \n",
       "2     cellular   16   apr       185         1    330         1  failure  no  \n",
       "3      unknown    3   jun       199         4     -1         0  unknown  no  \n",
       "4      unknown    5   may       226         1     -1         0  unknown  no  \n",
       "...        ...  ...   ...       ...       ...    ...       ...      ...  ..  \n",
       "4516  cellular   30   jul       329         5     -1         0  unknown  no  \n",
       "4517   unknown    9   may       153         1     -1         0  unknown  no  \n",
       "4518  cellular   19   aug       151        11     -1         0  unknown  no  \n",
       "4519  cellular    6   feb       129         4    211         3    other  no  \n",
       "4520  cellular    3   apr       345         2    249         7    other  no  \n",
       "\n",
       "[4521 rows x 17 columns]"
      ]
     },
     "execution_count": 6,
     "metadata": {},
     "output_type": "execute_result"
    }
   ],
   "source": [
    "file_path=r\"C:\\Users\\Mrityunjay\\Desktop\\Data science naresh it\\Class notes by me\\bank.csv\"\n",
    "bank_df=pd.read_csv(file_path,sep=\";\")\n",
    "bank_df"
   ]
  },
  {
   "cell_type": "code",
   "execution_count": 8,
   "id": "1a54a8a0-5819-44db-aa38-da7cebcfede6",
   "metadata": {},
   "outputs": [
    {
     "data": {
      "text/plain": [
       "age           int64\n",
       "job          object\n",
       "marital      object\n",
       "education    object\n",
       "default      object\n",
       "balance       int64\n",
       "housing      object\n",
       "loan         object\n",
       "contact      object\n",
       "day           int64\n",
       "month        object\n",
       "duration      int64\n",
       "campaign      int64\n",
       "pdays         int64\n",
       "previous      int64\n",
       "poutcome     object\n",
       "y            object\n",
       "dtype: object"
      ]
     },
     "execution_count": 8,
     "metadata": {},
     "output_type": "execute_result"
    }
   ],
   "source": [
    "bank_df.dtypes"
   ]
  },
  {
   "cell_type": "code",
   "execution_count": 10,
   "id": "1244d1e9-eea3-42be-8f54-e9df695a4b97",
   "metadata": {},
   "outputs": [
    {
     "data": {
      "text/plain": [
       "(['job',\n",
       "  'marital',\n",
       "  'education',\n",
       "  'default',\n",
       "  'housing',\n",
       "  'loan',\n",
       "  'contact',\n",
       "  'month',\n",
       "  'poutcome',\n",
       "  'y'],\n",
       " ['age', 'balance', 'day', 'duration', 'campaign', 'pdays', 'previous'])"
      ]
     },
     "execution_count": 10,
     "metadata": {},
     "output_type": "execute_result"
    }
   ],
   "source": [
    "cat_list=[]\n",
    "num_list=[]\n",
    "for i,j in dict(bank_df.dtypes).items():\n",
    "    if j==\"object\":\n",
    "        cat_list.append(i)\n",
    "    else:\n",
    "        num_list.append(i)\n",
    "cat_list,num_list"
   ]
  },
  {
   "cell_type": "code",
   "execution_count": 12,
   "id": "97e2c50b-951e-4c11-a092-84bea020574d",
   "metadata": {},
   "outputs": [
    {
     "data": {
      "text/plain": [
       "(['job',\n",
       "  'marital',\n",
       "  'education',\n",
       "  'default',\n",
       "  'housing',\n",
       "  'loan',\n",
       "  'contact',\n",
       "  'month',\n",
       "  'poutcome',\n",
       "  'y'],\n",
       " ['age', 'balance', 'day', 'duration', 'campaign', 'pdays', 'previous'])"
      ]
     },
     "execution_count": 12,
     "metadata": {},
     "output_type": "execute_result"
    }
   ],
   "source": [
    "cat_list1=[i for i,j in dict(bank_df.dtypes).items() if j==\"object\"]\n",
    "null_list1=[i for i,j in dict(bank_df.dtypes).items() if j!=\"object\"]\n",
    "cat_list1,null_list1"
   ]
  },
  {
   "cell_type": "code",
   "execution_count": null,
   "id": "d152f14c-ff82-44fc-be32-cce460b8b668",
   "metadata": {},
   "outputs": [],
   "source": [
    "bank_df.columns"
   ]
  },
  {
   "cell_type": "code",
   "execution_count": 14,
   "id": "23720116-b395-4032-8fee-2813236ccfad",
   "metadata": {},
   "outputs": [
    {
     "data": {
      "text/plain": [
       "0          unemployed\n",
       "1            services\n",
       "2          management\n",
       "3          management\n",
       "4         blue-collar\n",
       "            ...      \n",
       "4516         services\n",
       "4517    self-employed\n",
       "4518       technician\n",
       "4519      blue-collar\n",
       "4520     entrepreneur\n",
       "Name: job, Length: 4521, dtype: object"
      ]
     },
     "execution_count": 14,
     "metadata": {},
     "output_type": "execute_result"
    }
   ],
   "source": [
    "bank_df['job']"
   ]
  },
  {
   "cell_type": "code",
   "execution_count": null,
   "id": "da29baf9-dd24-4069-96d9-568c2373cb18",
   "metadata": {},
   "outputs": [],
   "source": [
    "bank_df[['job']]"
   ]
  },
  {
   "cell_type": "code",
   "execution_count": null,
   "id": "a4b54503-03c1-419c-a111-b9d2707d9197",
   "metadata": {},
   "outputs": [],
   "source": [
    "bank_df.loc[:,['job']]"
   ]
  },
  {
   "cell_type": "code",
   "execution_count": 16,
   "id": "2e240f4c-e364-4221-9599-f90a38bd569f",
   "metadata": {},
   "outputs": [
    {
     "data": {
      "text/html": [
       "<div>\n",
       "<style scoped>\n",
       "    .dataframe tbody tr th:only-of-type {\n",
       "        vertical-align: middle;\n",
       "    }\n",
       "\n",
       "    .dataframe tbody tr th {\n",
       "        vertical-align: top;\n",
       "    }\n",
       "\n",
       "    .dataframe thead th {\n",
       "        text-align: right;\n",
       "    }\n",
       "</style>\n",
       "<table border=\"1\" class=\"dataframe\">\n",
       "  <thead>\n",
       "    <tr style=\"text-align: right;\">\n",
       "      <th></th>\n",
       "      <th>job</th>\n",
       "      <th>duration</th>\n",
       "    </tr>\n",
       "  </thead>\n",
       "  <tbody>\n",
       "    <tr>\n",
       "      <th>0</th>\n",
       "      <td>unemployed</td>\n",
       "      <td>79</td>\n",
       "    </tr>\n",
       "    <tr>\n",
       "      <th>1</th>\n",
       "      <td>services</td>\n",
       "      <td>220</td>\n",
       "    </tr>\n",
       "    <tr>\n",
       "      <th>2</th>\n",
       "      <td>management</td>\n",
       "      <td>185</td>\n",
       "    </tr>\n",
       "    <tr>\n",
       "      <th>3</th>\n",
       "      <td>management</td>\n",
       "      <td>199</td>\n",
       "    </tr>\n",
       "    <tr>\n",
       "      <th>4</th>\n",
       "      <td>blue-collar</td>\n",
       "      <td>226</td>\n",
       "    </tr>\n",
       "    <tr>\n",
       "      <th>...</th>\n",
       "      <td>...</td>\n",
       "      <td>...</td>\n",
       "    </tr>\n",
       "    <tr>\n",
       "      <th>4516</th>\n",
       "      <td>services</td>\n",
       "      <td>329</td>\n",
       "    </tr>\n",
       "    <tr>\n",
       "      <th>4517</th>\n",
       "      <td>self-employed</td>\n",
       "      <td>153</td>\n",
       "    </tr>\n",
       "    <tr>\n",
       "      <th>4518</th>\n",
       "      <td>technician</td>\n",
       "      <td>151</td>\n",
       "    </tr>\n",
       "    <tr>\n",
       "      <th>4519</th>\n",
       "      <td>blue-collar</td>\n",
       "      <td>129</td>\n",
       "    </tr>\n",
       "    <tr>\n",
       "      <th>4520</th>\n",
       "      <td>entrepreneur</td>\n",
       "      <td>345</td>\n",
       "    </tr>\n",
       "  </tbody>\n",
       "</table>\n",
       "<p>4521 rows × 2 columns</p>\n",
       "</div>"
      ],
      "text/plain": [
       "                job  duration\n",
       "0        unemployed        79\n",
       "1          services       220\n",
       "2        management       185\n",
       "3        management       199\n",
       "4       blue-collar       226\n",
       "...             ...       ...\n",
       "4516       services       329\n",
       "4517  self-employed       153\n",
       "4518     technician       151\n",
       "4519    blue-collar       129\n",
       "4520   entrepreneur       345\n",
       "\n",
       "[4521 rows x 2 columns]"
      ]
     },
     "execution_count": 16,
     "metadata": {},
     "output_type": "execute_result"
    }
   ],
   "source": [
    "bank_df.loc[:,['job','duration']]"
   ]
  },
  {
   "cell_type": "markdown",
   "id": "5d3528c8-0ef6-4302-9a46-53f7cb9a59af",
   "metadata": {},
   "source": [
    "$task=1$"
   ]
  },
  {
   "cell_type": "code",
   "execution_count": 18,
   "id": "d70a2c52-c068-4fee-aef5-98fc2b1ea3c6",
   "metadata": {},
   "outputs": [
    {
     "data": {
      "text/plain": [
       "array([  79,  220,  185,  199,  226,  141,  341,  151,   57,  313,  273,\n",
       "        113,  328,  261,   89,  189,  239,  114,  250,  148,   96,  140,\n",
       "        109,  125,  169,  182,  247,  119,  149,   74,  897,   81,   40,\n",
       "        958,  354,  150,   97,  132,  765,   16,  609,  106,  365,  205,\n",
       "         11,  105,   59,  425,  204,  181, 1018, 1740,   98,  441,  272,\n",
       "        159,  295,  314,  579,  554,  323,  227,  134,  223,  155,  130,\n",
       "        630,  164,  268,  380,  154,  221,   67,  367,   87,  701,  652,\n",
       "         63,  398,  224,  406,   60,  521,  279,  203,  201,  372,  391,\n",
       "        165,  231,  291,  233,  473,  736,  337,  553,  345,   65,    9,\n",
       "        259,  371,  280,  243,  435,  258,    7,  317,   76,  170,  386,\n",
       "         83,   69,  564,  588,  779,  281, 1877,   51,   32,  176,  161,\n",
       "        187,   24,   85,  236,   54,   71,  489,   39,  455,   86,  190,\n",
       "         45,  168,  194,  103,  333,  102,   92,  213,  289,   77,  324,\n",
       "         84,   10,   35,   82,  676,   80,  549,  135,  412,  101,  253,\n",
       "        166,   18,  147,   14,   61,  377,  152,  382,  543,  240,   48,\n",
       "        471,  285,  301,  768, 1337,  403,  139,  196,  115,   17,   95,\n",
       "        198,  654,  256,  834,   20,  178,  111,  186,  297,  210,  112,\n",
       "        222,  195,  123,  145,  124,  216,  483,  690,  344,  673,  144,\n",
       "        246,  361,  375, 1097,  180,  373,  230,   58,   88,  487,   29,\n",
       "        484,  262,  644,  699,   49,   64,  121,  197,  331,  138,  312,\n",
       "        120,  526,  211,   62,  988,  451, 1030, 1484,  445,  383,  605,\n",
       "        330,  171,  442,  772,  249,  357,  271,  783,  472,  395,   56,\n",
       "        641,  429,  157,  162,  799, 1370,   22,  215, 1017,  298,  126,\n",
       "          8,  555,  270,  339,  342, 1434,   30,  397,  620,    6,  209,\n",
       "        419,  283,  188,  267,  245, 1065,  207,  456,  131,   94,  567,\n",
       "        153,   53,  234,  108,  208,  597,  505,  332,  212,  493,  681,\n",
       "        287,  202,   37,   72,  325, 1212,  319,  514,  551,  142,  293,\n",
       "        107,  127, 1816,  200,  418,  387,  156,   47,  265,   31,   28,\n",
       "        369,  854,   46,  266,  321,   99,  430,  264,  118,  343,    5,\n",
       "        722,  748,  523,  421,   15,  502,  193,  347,  468,  388, 1735,\n",
       "        172,  117,  587,  501,  282,  110,  104,  378, 1407,  738,   70,\n",
       "        904,  336,  238,  585,   68, 1713,  218,  661,  566,  136,  160,\n",
       "         44,  792,   73,   90,  346,  192,  682,  651,  405,  350,   36,\n",
       "        389, 3025,  219,  427,  533,   19,  819,  278,  617,   34,  668,\n",
       "         75,  146,  356,  251,  352,  184,  568,  260,  447,  426,  174,\n",
       "        284,  428,  237, 1031,  700,  590,   43,   27, 1181,  122,  307,\n",
       "        770,  767,  232,  986,   66,  158,  306,  559,  183,  631, 1282,\n",
       "       1199,  244,   55,  290,  385,  133,   91,   25,  275,  632,  100,\n",
       "         41,  446,  304,  335,  276,   42,  614,  557, 1663,  510, 1259,\n",
       "        225,  404, 1015,  761,  464,  206,  667,  143,  717,   38,  254,\n",
       "        882,  957,  299,  167,  500,  177,  457,  460, 1028,  315,  381,\n",
       "        643,  508,  128,  492,  257,  241,  536,  601, 1168,  277,  364,\n",
       "        229,  402,  175,  255,  820,  116,  463,  603,  191, 2087,  754,\n",
       "        303,  288,  891,  558,  228,  353,  296,  432, 1130,  305,  274,\n",
       "        860,  420,  756,  968,  408,   13,  763,  316,   50,    4,   78,\n",
       "        286,  766,  648,  688,   21,  593,  407,  563,   52,  803,  396,\n",
       "        637,  945, 1178,  506,  409,  327,  618,  936,  329,  179,  731,\n",
       "        670,  318,  415,  137,  349,  263,  671,  452,  163,  586,  650,\n",
       "        610,  747,  252,  883,  684,  686, 1060,  724,  424,  712,  753,\n",
       "       1081,  376,  433,  411, 1083,  757,  524,  653,   93,  503,  217,\n",
       "        475,  340,  242,  530,   23,  935,  773,  423,  626,  578,  248,\n",
       "        528,  785,  952, 1174,  915,  937,  129, 1063,  758,  574,  847,\n",
       "       1558,  789, 1441,  322, 1504,  537,  611,   26,   12,  235,  796,\n",
       "       1126,  697,  931, 1034,  362,  410,  570,  633,  659,  302,  727,\n",
       "        214,  173,  635,  540, 1210,  486,  646,  326,  414,  716,  449,\n",
       "        580,  399, 1029,  755,  619,  606,  971,  348,  594, 1275,  379,\n",
       "       1032,  393,  808,  923,  413,  541,  602,  762,  360,  310,  311,\n",
       "        638,  355,  300,  417,  308,  657,  434,  488, 1309, 1056,  908,\n",
       "        401,  827,  735,  691,  461,  669, 1473, 1386,  294,  910,  550,\n",
       "       1366, 1532,  955,  513, 1236,  809,  482, 1164,  674,  709,  436,\n",
       "        374,  309,  363,  422,  358,  640,  439,  476,  480,  517,  993,\n",
       "         33,  730,  636,  750,  334,  868,  351, 1689,  607,  485, 1021,\n",
       "        732,  577,  733,  788,  863, 1073,  525,  696,  535,  370,  465,\n",
       "        338,  956,  546,  470,  836,  544,  443, 1149,  707, 1451, 1143,\n",
       "        477,  450,  467,  292,  806,  560,  759, 1183,  598,  466,  431,\n",
       "        269,  542,  562,  515, 1165,  547,  780,  916,  474,  509,  679,\n",
       "       1472,  965, 1139,  504,  672,  749,  454,  531,  479,  384,  973,\n",
       "        728,  656,  998,  320,  615,  612,  664,  394,  877, 1971, 1258,\n",
       "        599,  655, 1994,  743,  924,  929,  491,  719,  565, 1529,  390,\n",
       "       1467, 1007,  665,  990,  582,  458,  775,  497,  698,  702,  520,\n",
       "       1156,  884, 1521,  359,  527,  994, 1579,  437, 1225,  865,  569,\n",
       "       1011,  814,  984,  392,  595, 1448,  529, 1006,  622,  494, 1022,\n",
       "       1044,  781, 1124,  400,  516, 1516,  978,  720,  495,  798,  876,\n",
       "        875,  481,  793, 1117, 1223, 1101,  744, 2769,  561,  715,  639,\n",
       "        538, 1721, 1608,  725,  519,  490,  907,  680,  977,  959,  693,\n",
       "       2029, 1009,  718,  805,  623,  976,  600,  469, 1010,  634, 1531,\n",
       "        764,  532,  825,  539,  816,  821, 1231,  742, 2456,  721,  777,\n",
       "        548,  830,  645,  723,  746,  869, 1173,  624,  518,  815,  857,\n",
       "        921,  627,  800,  366, 1088,  812,  866, 1151,  873,  592,  663,\n",
       "        576, 1476,  951, 1234, 1263,  660], dtype=int64)"
      ]
     },
     "execution_count": 18,
     "metadata": {},
     "output_type": "execute_result"
    }
   ],
   "source": [
    "bank_df['duration'].unique()"
   ]
  },
  {
   "cell_type": "code",
   "execution_count": 20,
   "id": "ca275629-0e83-4d68-85d5-f1b5b393c698",
   "metadata": {},
   "outputs": [
    {
     "data": {
      "text/plain": [
       "875"
      ]
     },
     "execution_count": 20,
     "metadata": {},
     "output_type": "execute_result"
    }
   ],
   "source": [
    "bank_df['duration'].nunique()"
   ]
  },
  {
   "cell_type": "code",
   "execution_count": 22,
   "id": "cbd20d97-ad11-4ad7-9dc7-a0c5e51393be",
   "metadata": {},
   "outputs": [
    {
     "data": {
      "text/plain": [
       "875"
      ]
     },
     "execution_count": 22,
     "metadata": {},
     "output_type": "execute_result"
    }
   ],
   "source": [
    "len(bank_df['duration'].unique())"
   ]
  },
  {
   "cell_type": "code",
   "execution_count": null,
   "id": "a085312e-6fa8-4dd8-8ee5-4a46cd586c92",
   "metadata": {},
   "outputs": [],
   "source": [
    "bank_df[['education','balance']]"
   ]
  },
  {
   "cell_type": "code",
   "execution_count": 24,
   "id": "dc5e2bbf-a076-4cbe-81ea-0fa76d88de0a",
   "metadata": {},
   "outputs": [
    {
     "data": {
      "text/plain": [
       "array(['primary', 'secondary', 'tertiary', 'unknown'], dtype=object)"
      ]
     },
     "execution_count": 24,
     "metadata": {},
     "output_type": "execute_result"
    }
   ],
   "source": [
    "bank_df['education'].unique()"
   ]
  },
  {
   "cell_type": "code",
   "execution_count": null,
   "id": "f7d61e20-e35f-4cec-9b8d-f44c7deb9223",
   "metadata": {},
   "outputs": [],
   "source": [
    "bank_df['education'].nunique()"
   ]
  },
  {
   "cell_type": "code",
   "execution_count": 26,
   "id": "09d71d1f-d6bd-4f3c-933a-8879c76b6bc5",
   "metadata": {},
   "outputs": [
    {
     "data": {
      "text/plain": [
       "array([ 1787,  4789,  1350, ...,  -333, -3313,  1137], dtype=int64)"
      ]
     },
     "execution_count": 26,
     "metadata": {},
     "output_type": "execute_result"
    }
   ],
   "source": [
    "bank_df['balance'].unique()"
   ]
  },
  {
   "cell_type": "code",
   "execution_count": null,
   "id": "27f1a37d-f77a-465a-99aa-4a3f2f5d9db5",
   "metadata": {},
   "outputs": [],
   "source": [
    "bank_df['balance'].nunique()"
   ]
  },
  {
   "cell_type": "markdown",
   "id": "f9947652-4c42-4041-8f7c-80805b812319",
   "metadata": {},
   "source": [
    "$task=2$"
   ]
  },
  {
   "cell_type": "code",
   "execution_count": 28,
   "id": "750936fb-3b2e-4f2d-98de-a9a63ca41e1f",
   "metadata": {},
   "outputs": [
    {
     "data": {
      "text/html": [
       "<div>\n",
       "<style scoped>\n",
       "    .dataframe tbody tr th:only-of-type {\n",
       "        vertical-align: middle;\n",
       "    }\n",
       "\n",
       "    .dataframe tbody tr th {\n",
       "        vertical-align: top;\n",
       "    }\n",
       "\n",
       "    .dataframe thead th {\n",
       "        text-align: right;\n",
       "    }\n",
       "</style>\n",
       "<table border=\"1\" class=\"dataframe\">\n",
       "  <thead>\n",
       "    <tr style=\"text-align: right;\">\n",
       "      <th></th>\n",
       "      <th>0</th>\n",
       "    </tr>\n",
       "  </thead>\n",
       "  <tbody>\n",
       "    <tr>\n",
       "      <th>0</th>\n",
       "      <td>primary</td>\n",
       "    </tr>\n",
       "    <tr>\n",
       "      <th>1</th>\n",
       "      <td>secondary</td>\n",
       "    </tr>\n",
       "    <tr>\n",
       "      <th>2</th>\n",
       "      <td>tertiary</td>\n",
       "    </tr>\n",
       "    <tr>\n",
       "      <th>3</th>\n",
       "      <td>unknown</td>\n",
       "    </tr>\n",
       "  </tbody>\n",
       "</table>\n",
       "</div>"
      ],
      "text/plain": [
       "           0\n",
       "0    primary\n",
       "1  secondary\n",
       "2   tertiary\n",
       "3    unknown"
      ]
     },
     "execution_count": 28,
     "metadata": {},
     "output_type": "execute_result"
    }
   ],
   "source": [
    "edu_list=[]\n",
    "for i in bank_df['education'].unique():\n",
    "    edu_list.append(i)\n",
    "edu_list\n",
    "pd.DataFrame(edu_list)"
   ]
  },
  {
   "cell_type": "code",
   "execution_count": 30,
   "id": "08387af9-9b41-4a25-a050-550764d375df",
   "metadata": {},
   "outputs": [],
   "source": [
    "null_bal=[]\n",
    "for i in bank_df[\"balance\"].unique():\n",
    "    null= bank_df['balance']==i\n",
    "    count=len(bank_df[null])\n",
    "    null_bal.append(count)\n"
   ]
  },
  {
   "cell_type": "code",
   "execution_count": null,
   "id": "5bf294db-493f-41b4-a87d-837fb007cb13",
   "metadata": {},
   "outputs": [],
   "source": [
    "bank_df[\"balance\"]="
   ]
  },
  {
   "cell_type": "code",
   "execution_count": null,
   "id": "cd5b9457-1dc0-4b21-99ca-f4f08fcee497",
   "metadata": {},
   "outputs": [],
   "source": [
    "len(bank_df[\"balance\"])"
   ]
  },
  {
   "cell_type": "code",
   "execution_count": null,
   "id": "ab3f7e25-cae3-4bec-ab23-b8d786e66079",
   "metadata": {},
   "outputs": [],
   "source": [
    "bank_df[\"education\"].unique()"
   ]
  },
  {
   "cell_type": "code",
   "execution_count": null,
   "id": "b874717d-0174-4d4a-8aba-d9600baa1fa5",
   "metadata": {},
   "outputs": [],
   "source": [
    "pri=bank_df[\"education\"]==\"primary\"\n",
    "bank_df[pri]"
   ]
  },
  {
   "cell_type": "code",
   "execution_count": null,
   "id": "3e5f1410-195b-449e-ac3f-d81e9e7fa618",
   "metadata": {},
   "outputs": [],
   "source": [
    "sec=bank_df[\"education\"]==\"secondary\"\n",
    "bank_df[sec]"
   ]
  },
  {
   "cell_type": "code",
   "execution_count": null,
   "id": "601cd334-da23-4127-a3eb-f71ce939cc0c",
   "metadata": {},
   "outputs": [],
   "source": [
    "tri=bank_df[\"education\"]==\"tertiary\"\n",
    "bank_df[tri]"
   ]
  },
  {
   "cell_type": "code",
   "execution_count": null,
   "id": "57525ee9-c17e-4c98-bbee-a2eb6284240d",
   "metadata": {},
   "outputs": [],
   "source": [
    "edu_ty=[]\n",
    "for i in bank_df[\"education\"].unique():\n",
    "    edu_ty.append(i)\n",
    "edu_ty"
   ]
  },
  {
   "cell_type": "code",
   "execution_count": null,
   "id": "6593cbee-b11c-4d1d-b343-e04697e94540",
   "metadata": {},
   "outputs": [],
   "source": [
    "job_count=[]\n",
    "for i in bank_df[\"education\"].unique():\n",
    "    type=bank_df[\"education\"]==i\n",
    "    count=len(bank_df[type])\n",
    "    job_count.append(count)\n",
    "job_count"
   ]
  },
  {
   "cell_type": "code",
   "execution_count": null,
   "id": "be91247a-89f1-45f5-9348-6d68ae25ae32",
   "metadata": {},
   "outputs": [],
   "source": [
    "bank_df[\"job\"]"
   ]
  },
  {
   "cell_type": "code",
   "execution_count": null,
   "id": "0cd3de58-0704-4a13-a345-75808b57ca3e",
   "metadata": {},
   "outputs": [],
   "source": [
    "job_count=[]\n",
    "for i in bank_df[\"job\"].unique():\n",
    "    type=bank_df[\"job\"]==i\n",
    "    count=len(bank_df[type])\n",
    "    job_count.append(count)\n",
    "job_count"
   ]
  },
  {
   "cell_type": "code",
   "execution_count": null,
   "id": "6be69529-2614-44f2-b469-a9bcf5bb26fc",
   "metadata": {},
   "outputs": [],
   "source": [
    "job_name=[i for i in bank_df[\"job\"].unique()]\n",
    "#job_name\n",
    "job_count=[]\n",
    "for i in bank_df[\"job\"].unique():\n",
    "    type=bank_df[\"job\"]==i\n",
    "    count=len(bank_df[type])\n",
    "    job_count.append(count)\n",
    "df=pd.DataFrame(zip(job_name,job_count),columns=[\"job_name\",\"job_count\"])\n",
    "df.to_csv(\"jobsdetail.csv\",index=False)\n",
    "pd.read_csv(\"jobsdetail.csv\")"
   ]
  },
  {
   "cell_type": "code",
   "execution_count": null,
   "id": "b6728a4e-3e6d-4063-925e-cecc1fd344bf",
   "metadata": {},
   "outputs": [],
   "source": [
    "n=bank_df[\"balance\"].unique()\n",
    "n"
   ]
  },
  {
   "cell_type": "code",
   "execution_count": null,
   "id": "f7f9a3c2-e713-4238-8d43-1cc218ea4026",
   "metadata": {},
   "outputs": [],
   "source": [
    "l=[]\n",
    "l.append(len(bank_df[\"job\"]==\"job\"))\n",
    "l"
   ]
  },
  {
   "cell_type": "code",
   "execution_count": null,
   "id": "f1f76b54-01ea-490a-b09d-dbda8d1d59bd",
   "metadata": {},
   "outputs": [],
   "source": [
    "bank_df"
   ]
  },
  {
   "cell_type": "code",
   "execution_count": null,
   "id": "1f0f074a-82db-4060-aed9-9de149af1587",
   "metadata": {},
   "outputs": [],
   "source": [
    "bank_df.columns"
   ]
  },
  {
   "cell_type": "code",
   "execution_count": null,
   "id": "c2dae90d-3ffc-4aeb-b43e-f9b5d3dffa5c",
   "metadata": {},
   "outputs": [],
   "source": [
    "bank_df[\"job\"]"
   ]
  },
  {
   "cell_type": "code",
   "execution_count": null,
   "id": "a314a27c-5f53-4205-b6e2-001be8389e98",
   "metadata": {},
   "outputs": [],
   "source": [
    "bank_df[\"job\"].unique()"
   ]
  },
  {
   "cell_type": "code",
   "execution_count": null,
   "id": "97194142-3daf-4d2c-96c1-f3e0923ff1bf",
   "metadata": {},
   "outputs": [],
   "source": [
    "for i in bank_df[\"job\"].unique():\n",
    "    print(i)"
   ]
  },
  {
   "cell_type": "code",
   "execution_count": null,
   "id": "235c73cb-4ca7-47e1-b3ad-21c5caa3b060",
   "metadata": {},
   "outputs": [],
   "source": [
    "job_count=[]\n",
    "for i in bank_df[\"job\"].unique():\n",
    "    type=bank_df[\"job\"]==i\n",
    "    count=len(bank_df[type])\n",
    "    job_count.append(count)\n",
    "job_count"
   ]
  },
  {
   "cell_type": "code",
   "execution_count": null,
   "id": "626c3b95-4b3a-4e1c-9dec-4bef9c5979f9",
   "metadata": {},
   "outputs": [],
   "source": [
    "bank_df[\"job\"]"
   ]
  },
  {
   "cell_type": "code",
   "execution_count": null,
   "id": "000a98a7-dc25-4af7-9304-bca7e51415a8",
   "metadata": {},
   "outputs": [],
   "source": [
    "len(bank_df[\"job\"])"
   ]
  },
  {
   "cell_type": "code",
   "execution_count": null,
   "id": "d485051f-7bb5-4fce-bbba-bdbee8aede73",
   "metadata": {},
   "outputs": [],
   "source": [
    "bank_df.columns"
   ]
  },
  {
   "cell_type": "code",
   "execution_count": null,
   "id": "99977c4e-b719-4d1c-81a9-f7e4469f1318",
   "metadata": {},
   "outputs": [],
   "source": [
    "cat_list=[]\n",
    "nul_list=[]\n",
    "for i in bank_df[\"age\"].unique():\n",
    "    nul_list.append(i)\n",
    "l2=nul_list\n",
    "for i in bank_df[\"age\"].unique():\n",
    "    con=bank_df[\"age\"]==i\n",
    "    count=len(bank_df[con])\n",
    "    cat_list.append(count)\n",
    "l1=cat_list\n",
    "pd .DataFrame(zip(l1,l2),columns=[\"agetype\",\"number\"])"
   ]
  },
  {
   "cell_type": "code",
   "execution_count": null,
   "id": "d5782623-76bc-46df-b8b9-9f11563c0afa",
   "metadata": {},
   "outputs": [],
   "source": [
    "cat_list=[]\n",
    "nul_list=[]\n",
    "for i in bank_df[\"job\"].unique():\n",
    "    cat_list.append(i)\n",
    "for i in bank_df[\"job\"].unique():\n",
    "    con=bank_df[\"job\"]==i\n",
    "    count=len(bank_df[con])\n",
    "    nul_list.append(count)\n",
    "pd.DataFrame(zip(cat_list,nul_list))"
   ]
  },
  {
   "cell_type": "code",
   "execution_count": null,
   "id": "6e1c26a9-ace5-46a2-bf9c-15dc49399934",
   "metadata": {},
   "outputs": [],
   "source": [
    "cat_list=[]\n",
    "nul_list=[]\n",
    "for i in bank_df[\"loan\"].unique():\n",
    "    cat_list.append(i)\n",
    "for i in bank_df[\"loan\"].unique():\n",
    "    con=bank_df[\"loan\"]==i\n",
    "    count=len(bank_df[con])\n",
    "    nul_list.append(count)\n",
    "pd.DataFrame(zip(cat_list,nul_list))"
   ]
  },
  {
   "cell_type": "code",
   "execution_count": null,
   "id": "00f475f9-0153-4d34-960a-10053b0fa0b9",
   "metadata": {},
   "outputs": [],
   "source": [
    "bank_df.dtypes"
   ]
  },
  {
   "cell_type": "code",
   "execution_count": null,
   "id": "7413e240-123a-45af-b3bc-2f3da9c15705",
   "metadata": {},
   "outputs": [],
   "source": [
    "bank_df[\"education\"]"
   ]
  },
  {
   "cell_type": "code",
   "execution_count": null,
   "id": "1f60f2f5-dcad-42af-943f-ffaf2e59c81d",
   "metadata": {},
   "outputs": [],
   "source": [
    "cat_list=[]\n",
    "nul_list=[]\n",
    "for i in bank_df[\"default\"].unique():\n",
    "    cat_list.append(i)\n",
    "for i in bank_df[\"default\"].unique():\n",
    "    con=bank_df[\"default\"]==i\n",
    "    count=len(bank_df[con])\n",
    "    nul_list.append(count)\n",
    "pd.DataFrame(zip(cat_list,nul_list))"
   ]
  },
  {
   "cell_type": "code",
   "execution_count": null,
   "id": "0bcfe9cf-4698-4112-96f0-f60d2b053b5e",
   "metadata": {},
   "outputs": [],
   "source": [
    "cnf=bank_df[\"default\"].value_counts()\n",
    "pd.DataFrame(cnf)"
   ]
  },
  {
   "cell_type": "code",
   "execution_count": null,
   "id": "2031a986-4d78-44ce-a6b0-cd93fbbb97d7",
   "metadata": {},
   "outputs": [],
   "source": [
    "bank_df[\"education\"].unique()\n"
   ]
  },
  {
   "cell_type": "code",
   "execution_count": null,
   "id": "32c3baa3-c195-49e9-adb7-3c1561ef75c8",
   "metadata": {},
   "outputs": [],
   "source": []
  },
  {
   "cell_type": "code",
   "execution_count": null,
   "id": "0a0cf042-9626-4262-bec1-75954a696c59",
   "metadata": {},
   "outputs": [],
   "source": [
    "bank_df[\"default\"].unique()"
   ]
  },
  {
   "cell_type": "code",
   "execution_count": null,
   "id": "8508e2f7-b218-48d1-a098-743f17f6bd6a",
   "metadata": {},
   "outputs": [],
   "source": [
    "bank_df[\"education\"].unique()"
   ]
  },
  {
   "cell_type": "code",
   "execution_count": null,
   "id": "5226d388-c6cc-4f79-bbc5-084790ecf7fe",
   "metadata": {},
   "outputs": [],
   "source": [
    "l1=[i for i in bank_df[\"education\"].unique() ]\n",
    "l1"
   ]
  },
  {
   "cell_type": "code",
   "execution_count": null,
   "id": "88d6b1cc-f8f5-4ae5-8fde-b60e5ec70def",
   "metadata": {},
   "outputs": [],
   "source": [
    "bank_df.dtypes"
   ]
  },
  {
   "cell_type": "code",
   "execution_count": null,
   "id": "7edaa4d9-8679-4ae0-8421-0041d467f54c",
   "metadata": {},
   "outputs": [],
   "source": [
    "marital=bank_df[\"marital\"].unique()\n",
    "l1=[]\n",
    "for i in bank_df[\"age\"].unique():\n",
    "    l1.append(i)\n",
    "pd.DataFrame(zip(marital,l1))"
   ]
  },
  {
   "cell_type": "code",
   "execution_count": null,
   "id": "e721e780-c8fe-4f6b-a104-8732195fc09d",
   "metadata": {},
   "outputs": [],
   "source": [
    "bank_df"
   ]
  },
  {
   "cell_type": "code",
   "execution_count": null,
   "id": "615a5536-98b1-4b01-aff2-a566646a8d1e",
   "metadata": {},
   "outputs": [],
   "source": [
    "visa_df"
   ]
  },
  {
   "cell_type": "code",
   "execution_count": null,
   "id": "9543b1d7-255e-4611-99be-05776a07f814",
   "metadata": {},
   "outputs": [],
   "source": [
    "- we create a dataframe of unique value of a columns and its count\n",
    "- we create by our own by using for loop\n",
    "- this same operation we can get using value_counts"
   ]
  },
  {
   "cell_type": "code",
   "execution_count": null,
   "id": "5b6d0fa6-d6f0-4a8d-8f1b-d2f9eb8a486e",
   "metadata": {},
   "outputs": [],
   "source": [
    "cdf=visa_df[\"continent\"].value_counts()\n",
    "cdf"
   ]
  },
  {
   "cell_type": "code",
   "execution_count": null,
   "id": "91a1fc1d-ec0f-4ff1-a5dd-b09794d8a776",
   "metadata": {},
   "outputs": [],
   "source": [
    "dir(\"cdf\")"
   ]
  },
  {
   "cell_type": "code",
   "execution_count": null,
   "id": "e4f1190d-4f50-4440-af14-811fa005e3c4",
   "metadata": {},
   "outputs": [],
   "source": [
    "type(cdf)"
   ]
  },
  {
   "cell_type": "code",
   "execution_count": null,
   "id": "49d28f4d-1b41-4c7f-aa1f-65661ef0754a",
   "metadata": {},
   "outputs": [],
   "source": [
    "keys=cdf.keys()"
   ]
  },
  {
   "cell_type": "code",
   "execution_count": null,
   "id": "8ca1d394-750b-4eab-912e-3348b802bddb",
   "metadata": {},
   "outputs": [],
   "source": [
    "values=cdf.values"
   ]
  },
  {
   "cell_type": "code",
   "execution_count": null,
   "id": "0e57d095-ec4a-4906-a532-30f71b5b868a",
   "metadata": {},
   "outputs": [],
   "source": [
    "pd.DataFrame(zip(keys,values))"
   ]
  },
  {
   "cell_type": "code",
   "execution_count": null,
   "id": "98156bac-ad85-4311-af04-966783ec86fe",
   "metadata": {},
   "outputs": [],
   "source": [
    "cdf=visa_df[\"continent\"].value_counts()\n",
    "keys=cdf.keys()\n",
    "values=cdf.values\n",
    "df=pd.DataFrame(zip(keys,values))\n",
    "df"
   ]
  },
  {
   "cell_type": "code",
   "execution_count": null,
   "id": "40084e3b-8ade-4038-a462-00626db01103",
   "metadata": {},
   "outputs": [],
   "source": [
    "visa_df.columns"
   ]
  },
  {
   "cell_type": "code",
   "execution_count": null,
   "id": "9bf9693c-4b7c-413d-ba88-c5d746a8fa23",
   "metadata": {},
   "outputs": [],
   "source": [
    "cdf=visa_df['no_of_employees'].value_counts()\n",
    "keys=cdf.keys()\n",
    "values=cdf.values\n",
    "col=[\"lable\",\"count\"]\n",
    "df=pd.DataFrame(zip(keys,values),columns=col)\n",
    "df.to_csv(\"no_of_employees\",index=False)\n",
    "\n",
    "cdf=visa_df['prevailing_wage'].value_counts()\n",
    "keys=cdf.keys()\n",
    "values=cdf.values\n",
    "col=[\"lable\",\"count\"]\n",
    "df=pd.DataFrame(zip(keys,values),columns=col)\n",
    "df.to_csv('prevailing_wage',index=False)\n",
    "\n",
    "cdf=visa_df['case_status'].value_counts()\n",
    "keys=cdf.keys()\n",
    "values=cdf.values\n",
    "col=[\"lable\",\"count\"]\n",
    "df=pd.DataFrame(zip(keys,values),columns=col)\n",
    "df.to_csv('case_status',index=False)\n",
    "\n",
    "cdf=visa_df['unit_of_wage'].value_counts()\n",
    "keys=cdf.keys()\n",
    "values=cdf.values\n",
    "col=[\"lable\",\"count\"]\n",
    "df=pd.DataFrame(zip(keys,values),columns=col)\n",
    "df.to_csv('unit_of_wage',index=False)\n",
    "\n",
    "cdf=visa_df['yr_of_estab'].value_counts()\n",
    "keys=cdf.keys()\n",
    "values=cdf.values\n",
    "col=[\"lable\",\"count\"]\n",
    "df=pd.DataFrame(zip(keys,values),columns=col)\n",
    "df.to_csv('yr_of_estab',index=False)\n",
    "\n",
    "cdf=visa_df[ 'has_job_experience'].value_counts()\n",
    "keys=cdf.keys()\n",
    "values=cdf.values\n",
    "col=[\"lable\",\"count\"]\n",
    "df=pd.DataFrame(zip(keys,values),columns=col)\n",
    "df.to_csv('yr_of_estab',index=False)\n",
    "\n",
    "cdf=visa_df[ 'education_of_employee'].value_counts()\n",
    "keys=cdf.keys()\n",
    "values=cdf.values\n",
    "col=[\"lable\",\"count\"]\n",
    "df=pd.DataFrame(zip(keys,values),columns=col)\n",
    "df.to_csv('education_of_employee',index=False)\n",
    "\n",
    "cdf=visa_df[ 'requires_job_training'].value_counts()\n",
    "keys=cdf.keys()\n",
    "values=cdf.values\n",
    "col=[\"lable\",\"count\"]\n",
    "df=pd.DataFrame(zip(keys,values),columns=col)\n",
    "df.to_csv('requires_job_training',index=False)\n",
    "\n",
    "cdf=visa_df[ 'region_of_employment'].value_counts()\n",
    "keys=cdf.keys()\n",
    "values=cdf.values\n",
    "col=[\"lable\",\"count\"]\n",
    "df=pd.DataFrame(zip(keys,values),columns=col)\n",
    "df.to_csv('region_of_employment',index=False)\n",
    "\n",
    "\n",
    "cdf=visa_df[ 'full_time_position'].value_counts()\n",
    "keys=cdf.keys()\n",
    "values=cdf.values\n",
    "col=[\"lable\",\"count\"]\n",
    "df=pd.DataFrame(zip(keys,values),columns=col)\n",
    "df.to_csv('full_time_position.csv',index=False)\n",
    "\n"
   ]
  },
  {
   "cell_type": "code",
   "execution_count": null,
   "id": "33fb8e5a-415c-4fa9-9f6d-5091c4a4ac1e",
   "metadata": {},
   "outputs": [],
   "source": [
    "pd.read_csv('full_time_position.csv')"
   ]
  },
  {
   "cell_type": "code",
   "execution_count": null,
   "id": "1d82d678-f2f3-4b57-9ce4-f1d510964cc7",
   "metadata": {},
   "outputs": [],
   "source": [
    "cdf=visa_df['prevailing_wage'].value_counts()\n",
    "keys=cdf.keys()\n",
    "values=cdf.values\n",
    "col=[\"lable\",\"count\"]\n",
    "df=pd.DataFrame(zip(keys,values),columns=col)\n",
    "df.to_csv('prevailing_wage',index=False)\n",
    "df"
   ]
  },
  {
   "cell_type": "code",
   "execution_count": null,
   "id": "7a935fb3-da58-4652-8d9c-4df459fa0c7f",
   "metadata": {},
   "outputs": [],
   "source": [
    "for i in df:\n",
    "    keys=df.keys()\n",
    "    values=df.values\n",
    "    print(keys,values)"
   ]
  },
  {
   "cell_type": "code",
   "execution_count": null,
   "id": "fc4bea76-bbaf-4741-9084-8c2f252165b4",
   "metadata": {},
   "outputs": [],
   "source": [
    "keys"
   ]
  },
  {
   "cell_type": "code",
   "execution_count": null,
   "id": "2626713f-8c3d-4936-90c3-6a3f6ca0ef66",
   "metadata": {},
   "outputs": [],
   "source": [
    "values"
   ]
  },
  {
   "cell_type": "code",
   "execution_count": null,
   "id": "112f8c9d-51c5-47ed-857e-6b920891a604",
   "metadata": {},
   "outputs": [],
   "source": [
    "for i in df:\n",
    "    keys=df.keys()==i\n",
    "    values=df.values\n",
    "    count=(df.keys)\n",
    "    print(count)"
   ]
  },
  {
   "cell_type": "code",
   "execution_count": null,
   "id": "eac155de-59d7-4ae9-879a-eaf8d0a67cc3",
   "metadata": {},
   "outputs": [],
   "source": [
    "cdf=visa_df[ 'full_time_position'].value_counts()\n",
    "keys=cdf.keys()\n",
    "values=cdf.values\n",
    "col=[\"lable\",\"count\"]\n",
    "df=pd.DataFrame(zip(keys,values),columns=col)\n",
    "df.to_csv('full_time_position.csv',index=False)\n",
    "df"
   ]
  },
  {
   "cell_type": "code",
   "execution_count": null,
   "id": "96176000-d1c8-4303-9890-30a9763c7f44",
   "metadata": {
    "scrolled": true
   },
   "outputs": [],
   "source": [
    "cdf=visa_df[ 'full_time_position'].value_counts()\n",
    "count1=[]\n",
    "for i in df:\n",
    "    con=df.keys()==i\n",
    "    count=len(visa_df[con])\n",
    "    count1.append(count)\n",
    "pd.DataFrame(zip(cdf,count1))\n",
    "\n",
    "    "
   ]
  },
  {
   "cell_type": "code",
   "execution_count": null,
   "id": "b6ad485d-f001-45e1-b6ba-52cf28ba26aa",
   "metadata": {},
   "outputs": [],
   "source": [
    "for i in cat_columns[1:]:\n",
    "    cdf=visa_df[ i].value_counts()\n",
    "    keys=cdf.keys()\n",
    "    values=cdf.values\n",
    "    col=[\"lable\",\"count\"]\n",
    "    df=pd.DataFrame(zip(keys,values),\n",
    "                    columns=col)\n",
    "    path=r\"C:\\Users\\Mrityunjay\\Desktop\\Data science naresh it\\Class notes by me\\valuecounts\"\n",
    "    df.to_csv(f\"{path}\\\\{i}.csv\",index=False)\n"
   ]
  },
  {
   "cell_type": "code",
   "execution_count": null,
   "id": "0b0b4fde-f566-44c6-8ca1-dde2af458da1",
   "metadata": {},
   "outputs": [],
   "source": [
    "def valuecount(i):\n",
    "    for i in cat_columns[1:]:\n",
    "        cdf=visa_df[ i].value_counts()\n",
    "        keys=cdf.keys()\n",
    "        values=cdf.values\n",
    "        col=[\"lable\",\"count\"]\n",
    "        df=pd.DataFrame(zip(keys,values),\n",
    "                        columns=col)\n",
    "        path=r\"C:\\Users\\Mrityunjay\\Desktop\\Data science naresh it\\Class notes by me\\valuecounts\"\n",
    "        df.to_csv(f\"{path}\\\\{i}.csv\",index=False)\n",
    "valuecount()\n"
   ]
  },
  {
   "cell_type": "code",
   "execution_count": null,
   "id": "a87f0d7e-318d-439d-a5c5-62c5fa29d078",
   "metadata": {},
   "outputs": [],
   "source": [
    "for i in cat_columns[1:]:\n",
    "    cdf=visa_df[ i].value_counts()\n",
    "    keys=cdf.keys()\n",
    "    values=cdf.values\n",
    "    col=[\"lable\",\"count\"]\n",
    "    df=pd.DataFrame(zip(keys,values),\n",
    "                    columns=col)\n",
    "    path=r\"C:\\Users\\Mrityunjay\\Desktop\\Data science naresh it\\Class notes by me\\valuecounts\"\n",
    "    df.to_csv(f\"{path}\\\\{i}.csv\",index=False)"
   ]
  },
  {
   "cell_type": "code",
   "execution_count": null,
   "id": "1954b00f-6aa4-4767-9da1-f740ebaf9db9",
   "metadata": {},
   "outputs": [],
   "source": [
    "df.value_counts(normalize=True)"
   ]
  },
  {
   "cell_type": "code",
   "execution_count": null,
   "id": "8cde2e72-fd90-4d0d-aa1e-ee3554ec286e",
   "metadata": {},
   "outputs": [],
   "source": [
    "cdf=visa_df[\"continent\"].value_counts(normalize=False)\n",
    "print(f\"{round(cdf*100,2)}\")"
   ]
  },
  {
   "cell_type": "code",
   "execution_count": null,
   "id": "bd28806f-a6c6-495c-912d-97b7ec6d0d8b",
   "metadata": {},
   "outputs": [],
   "source": [
    "**normalize**\n",
    "- Reletive fraquency table\n",
    "- will give presentage of table in columns \n"
   ]
  },
  {
   "cell_type": "markdown",
   "id": "be4772ab-bf09-4d4c-8d2c-c53a00fa5ce5",
   "metadata": {},
   "source": [
    "**barchart**\n",
    "- graphical representation of frequency table\n",
    "- bar chart is ploat between count we required two columns \n",
    "categorical\n",
    "numerical\n",
    "we already createad frequency table for \"continent.df\"\n",
    "\n",
    "\n",
    "catagorical columns=\"continent\" \n",
    "numerical columns=\"number of applicants\"\n",
    "package matplit\n"
   ]
  },
  {
   "cell_type": "code",
   "execution_count": null,
   "id": "e98892c1-816e-45d4-9db9-c9da14de48af",
   "metadata": {},
   "outputs": [],
   "source": [
    "pd.read_csv('jobsdetail.csv')"
   ]
  },
  {
   "cell_type": "code",
   "execution_count": null,
   "id": "ef017804-e58f-4cd2-a7e1-d5a5ae62acbc",
   "metadata": {},
   "outputs": [],
   "source": []
  },
  {
   "cell_type": "code",
   "execution_count": null,
   "id": "c43e3a3c-8528-42b9-b93c-0bfaacf735be",
   "metadata": {},
   "outputs": [],
   "source": [
    "import matplotlib.pyplot as plt\n",
    "plt.bar(\"job_name\",\"job_count\",data=df)"
   ]
  },
  {
   "cell_type": "code",
   "execution_count": null,
   "id": "598c4806-9032-42d5-af2c-fb68867b539b",
   "metadata": {},
   "outputs": [],
   "source": [
    "plt.title(\"Bar chart\")\n",
    "plt.xlable(\"job_name\")\n",
    "plt.yplot(\"job_count\")\n",
    "plt.show()\n",
    "plt.savefig(\"jobdetails.jpg\")"
   ]
  },
  {
   "cell_type": "code",
   "execution_count": null,
   "id": "38c2501b-abf5-4fe7-ad0a-0ad7dcb2efe3",
   "metadata": {},
   "outputs": [],
   "source": [
    "visa_df"
   ]
  },
  {
   "cell_type": "code",
   "execution_count": null,
   "id": "6c609204-6573-4b82-8649-5a6ad4620cca",
   "metadata": {},
   "outputs": [],
   "source": [
    "cnf=visa_df[\"continent\"].value_counts()\n",
    "cnf"
   ]
  },
  {
   "cell_type": "code",
   "execution_count": null,
   "id": "2ce975b9-3c9b-40f6-b8b2-0e63c6cac432",
   "metadata": {},
   "outputs": [],
   "source": [
    "cnf.keys()"
   ]
  },
  {
   "cell_type": "code",
   "execution_count": null,
   "id": "152ea8de-6ddb-4b93-bf3b-2751fcf373ad",
   "metadata": {},
   "outputs": [],
   "source": [
    "cnf.values"
   ]
  },
  {
   "cell_type": "code",
   "execution_count": null,
   "id": "babba65d-616e-4286-9cbc-6b3389621e78",
   "metadata": {},
   "outputs": [],
   "source": [
    "dir(cnf)"
   ]
  },
  {
   "cell_type": "code",
   "execution_count": null,
   "id": "3caa6e20-b642-401e-a9a2-79da18c6d31e",
   "metadata": {},
   "outputs": [],
   "source": [
    "cnf=visa_df[\"continent\"].value_counts()\n",
    "keys=cnf.keys()\n",
    "values=cnf.values\n",
    "col=[\"country\",\"count\"]\n",
    "df4=pd.DataFrame(zip(keys,values),columns=col)\n",
    "df4"
   ]
  },
  {
   "cell_type": "code",
   "execution_count": null,
   "id": "c1fa59f3-763d-40cf-aa14-2dd4b46dbe13",
   "metadata": {},
   "outputs": [],
   "source": [
    "df4.dtypes"
   ]
  },
  {
   "cell_type": "code",
   "execution_count": null,
   "id": "a700fc4c-3fa2-4672-9107-c758806856fc",
   "metadata": {},
   "outputs": [],
   "source": []
  },
  {
   "cell_type": "code",
   "execution_count": null,
   "id": "e8a16ff0-257d-4148-b238-5c5b31bc6285",
   "metadata": {},
   "outputs": [],
   "source": [
    "import matplotlib.pyplot as plt\n",
    "plt.bar(\"country\",\"count\",data=region_of_employment)\n",
    "plt.title(\"Bar chart\")\n",
    "plt.xlabel(\"country\")\n",
    "plt.ylabel(\"count\")\n",
    "plt.show()\n",
    "plt.savefig(\"Barchart.jpg\")"
   ]
  },
  {
   "cell_type": "code",
   "execution_count": null,
   "id": "bf3f6953-0a97-4deb-a234-a79dcfcb5ac1",
   "metadata": {},
   "outputs": [],
   "source": [
    "visa_df"
   ]
  },
  {
   "cell_type": "code",
   "execution_count": null,
   "id": "51cbd9e1-3f9f-4c34-aebd-a6989e28547e",
   "metadata": {},
   "outputs": [],
   "source": [
    "visa_df.dtypes"
   ]
  },
  {
   "cell_type": "code",
   "execution_count": null,
   "id": "d039ad07-2b36-4eef-8094-6894f90df0bd",
   "metadata": {},
   "outputs": [],
   "source": [
    "cat_columns=visa_df.columns\n",
    "cat_columns"
   ]
  },
  {
   "cell_type": "code",
   "execution_count": null,
   "id": "6e8d59cc-e9ed-4d01-abf1-472a3ea0569e",
   "metadata": {},
   "outputs": [],
   "source": [
    "cat_columns[1:]"
   ]
  },
  {
   "cell_type": "code",
   "execution_count": null,
   "id": "7dbf4dea-9e5a-4fd4-8a3b-3ed3deb6237c",
   "metadata": {},
   "outputs": [],
   "source": [
    "cnf=visa_df['education_of_employee'].value_counts()\n",
    "keys=cnf.keys()\n",
    "values=cnf.values\n",
    "col=[\"degree\",\"count\"]\n",
    "pd.DataFrame(zip(keys,values),columns=col)"
   ]
  },
  {
   "cell_type": "code",
   "execution_count": null,
   "id": "eddc4e68-d9a6-44af-85c1-c3f9e40e5b80",
   "metadata": {},
   "outputs": [],
   "source": [
    "list1=cat_columns[1:]\n",
    "list1"
   ]
  },
  {
   "cell_type": "code",
   "execution_count": null,
   "id": "b92f7b47-df49-450b-a640-2eccb27f305e",
   "metadata": {},
   "outputs": [],
   "source": [
    "for i in cat_columns[1:]:\n",
    "    cnf=visa_df[i].value_counts()\n",
    "    keys=cnf.keys()\n",
    "    values=cnf.values\n",
    "    col=[\"lables\",\"count\"]\n",
    "    df=pd.DataFrame(zip(keys,values),columns=col)\n",
    "    path=r\"C:\\Users\\Mrityunjay\\Desktop\\Data science naresh it\\Class notes by me\\bank values\"\n",
    "    df.to_csv(f\"{path}\\\\{i}.csv\",index=False)"
   ]
  },
  {
   "cell_type": "code",
   "execution_count": null,
   "id": "6b24c891-1709-482f-bbba-5cf4cc1e5fb5",
   "metadata": {},
   "outputs": [],
   "source": [
    "def valuecounts(i):\n",
    "    cnf=visa_df[i].value_counts()\n",
    "    keys=cnf.keys()\n",
    "    values=cnf.values\n",
    "    col=[\"lables\",\"count\"]\n",
    "    df=pd.DataFrame(zip(keys,values),columns=col)\n",
    "    path=r\"C:\\Users\\Mrityunjay\\Desktop\\Data science naresh it\"\n",
    "    df.to_csv(f\"{path}\\\\{i}.csv\",index=False)\n",
    "valuecounts(list1)"
   ]
  },
  {
   "cell_type": "code",
   "execution_count": null,
   "id": "de9ed110-f87b-49e4-acc8-dd481c1b5bcc",
   "metadata": {},
   "outputs": [],
   "source": [
    "cnf=visa_df[\"continent\"].value_counts(normalize=True)\n",
    "round(cnf*100,2)"
   ]
  },
  {
   "cell_type": "code",
   "execution_count": null,
   "id": "84ef50f6-526a-42c5-899b-a6b54e9033e4",
   "metadata": {},
   "outputs": [],
   "source": [
    "#barchar\n",
    "import matplotlib.pyplot as plt\n",
    "plt.bar(\"continent\",\"Number of  Applicants\",data=continent_df)"
   ]
  },
  {
   "cell_type": "code",
   "execution_count": null,
   "id": "6ff20564-513b-4c33-8500-8c1ebbac942e",
   "metadata": {},
   "outputs": [],
   "source": [
    "bank_df"
   ]
  },
  {
   "cell_type": "code",
   "execution_count": null,
   "id": "eefe3c2e-56c2-4773-80d2-a37b96115c9f",
   "metadata": {},
   "outputs": [],
   "source": [
    "bank_df.dtypes"
   ]
  },
  {
   "cell_type": "code",
   "execution_count": null,
   "id": "8814faf4-383b-459a-ae1b-99a6d8ffca7b",
   "metadata": {},
   "outputs": [],
   "source": [
    "colm=bank_df.columns\n",
    "colm"
   ]
  },
  {
   "cell_type": "code",
   "execution_count": null,
   "id": "77855c34-dbcc-4bce-89c9-79f1b0067abe",
   "metadata": {},
   "outputs": [],
   "source": [
    "cnf=bank_df[\"job\"].value_counts()\n",
    "keys=cnf.keys()\n",
    "values=cnf.values\n",
    "col=[\"lables\",\"count\"]\n",
    "df=pd.DataFrame(zip(keys,values),columns=col)\n",
    "df.to_csv(\"jobs.csv\",index=False)\n",
    "pd.read_csv(\"jobs.csv\")"
   ]
  },
  {
   "cell_type": "code",
   "execution_count": null,
   "id": "32df56f3-8f19-4b55-824c-67a289b01280",
   "metadata": {},
   "outputs": [],
   "source": [
    "for i in colm:\n",
    "    dnf=bank_df[i].value_counts()\n",
    "    keys=dnf.keys()\n",
    "    values=dnf.values\n",
    "    col=[\"lable\",\"count\"]\n",
    "    df=pd.DataFrame(zip(keys,values),columns=col)\n",
    "    path=r\"C:\\Users\\Mrityunjay\\Desktop\\Data science naresh it\\Class notes by me\\bank values\"\n",
    "    df.to_csv(f\"{path}\\\\{i}.csv\",index=False)"
   ]
  },
  {
   "cell_type": "code",
   "execution_count": null,
   "id": "a897e294-0eed-4ae0-a358-55ee4003ae45",
   "metadata": {},
   "outputs": [],
   "source": [
    "jobs=pd.read_csv(\"job.csv\")\n",
    "jobs"
   ]
  },
  {
   "cell_type": "code",
   "execution_count": null,
   "id": "21a9cdc9-8680-4fdf-95f5-64c92b69ca75",
   "metadata": {},
   "outputs": [],
   "source": [
    "y=pd.read_csv(\"y.csv\")\n",
    "y"
   ]
  },
  {
   "cell_type": "code",
   "execution_count": null,
   "id": "d8537595-21b1-4be4-b395-ab154cab1b68",
   "metadata": {},
   "outputs": [],
   "source": [
    "ages=pd.read_csv(\"age.csv\")\n",
    "ages"
   ]
  },
  {
   "cell_type": "code",
   "execution_count": null,
   "id": "39f7362a-3000-48d0-88a1-92fc569917aa",
   "metadata": {},
   "outputs": [],
   "source": [
    "for i in colm:\n",
    "     path=r\"C:\\Users\\Mrityunjay\\Desktop\\Data science naresh it\\Class notes by me\\bank values\"\n",
    "     f1=pd.read_csv(f\"{path}\\\\{i}.csv\")"
   ]
  },
  {
   "cell_type": "code",
   "execution_count": null,
   "id": "6a011442-26c9-4437-bf73-be2431426531",
   "metadata": {},
   "outputs": [],
   "source": [
    "f1"
   ]
  },
  {
   "cell_type": "code",
   "execution_count": null,
   "id": "5005cc7d-e22c-48f1-a60e-3b83e7496ea2",
   "metadata": {},
   "outputs": [],
   "source": [
    "f1"
   ]
  },
  {
   "cell_type": "code",
   "execution_count": null,
   "id": "cf326cc7-52e3-453e-8c66-8526b8dcec13",
   "metadata": {},
   "outputs": [],
   "source": [
    "import matplotlib.pyplot as plt\n",
    "plt.bar(\"lable\",\"count\",data=jobs)\n",
    "plt.xlabel(\"Class\")\n",
    "plt.ylabel(\"Class frequency\")\n",
    "plt.show()\n",
    "plt.savefig(\"jobs.jpg\")"
   ]
  },
  {
   "cell_type": "code",
   "execution_count": null,
   "id": "49bfcb73-ebde-4f53-b042-4c7ce8612853",
   "metadata": {},
   "outputs": [],
   "source": [
    "plt.bar(\"lable\",\"count\",data=ages)\n",
    "plt.xlabel(\"unique age\")\n",
    "plt.ylabel(\"counts\")\n",
    "plt.show()\n",
    "#plt.savefig(agebar.jpg)"
   ]
  },
  {
   "cell_type": "code",
   "execution_count": null,
   "id": "fabe64bd-d3f1-4c1d-b72c-5c2404d984c4",
   "metadata": {},
   "outputs": [],
   "source": [
    "import matplotlib.pyplot as plt \n",
    "plt.bar(\"lable\",\"count\",data=y)\n",
    "plt.xlabel(\"option\")\n",
    "plt.ylabel(\"count\")\n",
    "plt.show()\n"
   ]
  },
  {
   "cell_type": "code",
   "execution_count": null,
   "id": "f0c87682-9ec2-4472-bdc1-0d452ba41c5d",
   "metadata": {},
   "outputs": [],
   "source": [
    "path=r\"C:\\Users\\Mrityunjay\\Desktop\\Data science naresh it\\Class notes by me\\jobs.jpg\"\n"
   ]
  },
  {
   "cell_type": "code",
   "execution_count": null,
   "id": "2adb5dbb-7931-48e9-ae35-4ecee2a1332c",
   "metadata": {},
   "outputs": [],
   "source": [
    "n=bank_df.columns\n",
    "n"
   ]
  },
  {
   "cell_type": "code",
   "execution_count": null,
   "id": "fe0368ad-ee69-419c-93ea-7868a9b76935",
   "metadata": {},
   "outputs": [],
   "source": [
    "for i in n:\n",
    "    dnf=bank_df[i].value_counts()\n",
    "    keys=dnf.keys()\n",
    "    values=dnf.values\n",
    "    col=[\"lable\",\"count\"]\n",
    "    df=pd.DataFrame(zip(keys,values),columns=col)\n",
    "    plt.title(\"Bar chart\")\n",
    "    plt.bar(\"lable\",\"count\",data=df)\n",
    "    plt.xlabel(f\"{i} class\")\n",
    "    plt.ylabel(f\"{i} class frequency\")\n",
    "    \n",
    "    path=r\"C:\\Users\\Mrityunjay\\Desktop\\Data science naresh it\\Class notes by me\\bank values\"\n",
    "    plt.savefig(f\"{path}\\\\{i}.jpg\")\n",
    "    "
   ]
  },
  {
   "cell_type": "code",
   "execution_count": null,
   "id": "799213f3-d64a-4506-88fb-381ab011e34b",
   "metadata": {},
   "outputs": [],
   "source": [
    "import matplotlib.pyplot as plt\n",
    "plt.bar(\"lable\",\"count\",data=i)\n",
    "plt.xlabel(\"Class\")\n",
    "plt.ylabel(\"Class frequency\")\n",
    "plt.show()\n",
    "plt.savefig(\"\")"
   ]
  },
  {
   "cell_type": "code",
   "execution_count": null,
   "id": "8ad8263d-08e7-4492-a26c-a667c5338219",
   "metadata": {},
   "outputs": [],
   "source": [
    "df7=pd.read_csv(\"job.csv\")"
   ]
  },
  {
   "cell_type": "code",
   "execution_count": null,
   "id": "06251764-ae00-4040-a11e-e9aaf3af0922",
   "metadata": {},
   "outputs": [],
   "source": [
    "import matplotlib.pyplot as plt\n",
    "plt.bar(\"lable\",\"count\",data=df7)\n",
    "plt.xlabel(\"Class\")\n",
    "plt.ylabel(\"Class frequency\")\n",
    "n=plt.show()\n",
    "n1=plt.savefig(\"jobss.jpg\")"
   ]
  },
  {
   "cell_type": "code",
   "execution_count": null,
   "id": "2618d37c-b460-4db9-ac66-d4c2579d73d7",
   "metadata": {},
   "outputs": [],
   "source": [
    "n1"
   ]
  },
  {
   "cell_type": "code",
   "execution_count": null,
   "id": "fb043648-2b19-4ba2-977f-1f25836b6980",
   "metadata": {},
   "outputs": [],
   "source": [
    "import matplotlib.image as img\n",
    "n1=img.imread(\"jobss.jpg\")\n",
    "plt.imshow(n1)"
   ]
  },
  {
   "cell_type": "code",
   "execution_count": null,
   "id": "ea43c022-15a3-4699-ae8f-4ba2afa70c13",
   "metadata": {},
   "outputs": [],
   "source": [
    "bank_df"
   ]
  },
  {
   "cell_type": "code",
   "execution_count": null,
   "id": "45ae8fc6-4078-439f-9898-697a061fceb4",
   "metadata": {},
   "outputs": [],
   "source": [
    "visa_df"
   ]
  },
  {
   "cell_type": "code",
   "execution_count": null,
   "id": "1da980a1-620e-45e0-9f96-8fc41cc1c974",
   "metadata": {},
   "outputs": [],
   "source": [
    "import pandas as pd\n",
    "import matplotlib.pyplot as plt"
   ]
  },
  {
   "cell_type": "code",
   "execution_count": null,
   "id": "3ddecf45-f0d1-4891-837a-88fbd5dccf38",
   "metadata": {},
   "outputs": [],
   "source": [
    "visa_df.columns"
   ]
  },
  {
   "cell_type": "code",
   "execution_count": 129,
   "id": "bfa8f75a-15aa-4002-bba4-8dcdeefe9a4c",
   "metadata": {},
   "outputs": [
    {
     "data": {
      "text/plain": [
       "Index(['continent', 'education_of_employee', 'has_job_experience',\n",
       "       'requires_job_training', 'no_of_employees', 'yr_of_estab',\n",
       "       'region_of_employment', 'prevailing_wage', 'unit_of_wage',\n",
       "       'full_time_position', 'case_status'],\n",
       "      dtype='object')"
      ]
     },
     "execution_count": 129,
     "metadata": {},
     "output_type": "execute_result"
    }
   ],
   "source": [
    "cat_columns=visa_df.columns\n",
    "cat_columns[1:]"
   ]
  },
  {
   "cell_type": "code",
   "execution_count": null,
   "id": "4ffc6ba6-b762-4535-8b2a-c0fe5dd98f9a",
   "metadata": {},
   "outputs": [],
   "source": [
    "for i in cat_columns[1:]:\n",
    "    dnf=visa_df[i].value_counts()\n",
    "    keys=dnf.keys()\n",
    "    values=dnf.values\n",
    "    col=[\"lable\",\"count\"]\n",
    "    df=pd.DataFrame(zip(keys,values),columns=col)\n",
    "    path=r\"C:\\Users\\Mrityunjay\\Desktop\\Data science naresh it\\Class notes by me\\bank values\"\n",
    "    df.to_csv(f\"{path}\\\\{i}.csv\",index=False)"
   ]
  },
  {
   "cell_type": "code",
   "execution_count": null,
   "id": "16086b38-5d94-4381-9acf-3f184a0883fd",
   "metadata": {},
   "outputs": [],
   "source": [
    "for i in cat_columns:\n",
    "    dnf=visa_df[i].value_counts()\n",
    "    keys=dnf.keys()\n",
    "    values=dnf.values\n",
    "    col=[\"lable\",\"count\"]\n",
    "    df=pd.DataFrame(zip(keys,values),columns=col)\n",
    "\n",
    "    \n",
    "    plt.bar(\"lable\",\"count\",data=df)\n",
    "    plt.title(\"Bar chart\")\n",
    "    plt.xlabel(f\"{i} class\")\n",
    "    plt.ylabel(f\"{i} class frequency\")\n",
    "    plt.show()\n",
    "    \n",
    "    path=r\"C:\\Users\\Mrityunjay\\Desktop\\Data science naresh it\\Class notes by me\\bank values\"\n",
    "    plt.savefig(f\"{path}\\\\{i}.jpg\")\n",
    "    "
   ]
  },
  {
   "cell_type": "code",
   "execution_count": null,
   "id": "cec161a1-80a8-49e9-adbe-2ac9eadb3e26",
   "metadata": {},
   "outputs": [],
   "source": [
    "colm=bank_df.columns\n",
    "colm"
   ]
  },
  {
   "cell_type": "code",
   "execution_count": null,
   "id": "7b7cb662-9172-4109-9926-019cfec13ff1",
   "metadata": {},
   "outputs": [],
   "source": [
    "for i in colm:\n",
    "    dnf=bank_df[i].value_counts()\n",
    "    keys=dnf.keys()\n",
    "    values=dnf.values\n",
    "    col=[\"lable\",\"count\"]\n",
    "    df=pd.DataFrame(zip(keys,values),columns=col)\n",
    "    path=r\"C:\\Users\\Mrityunjay\\Desktop\\Data science naresh it\\Class notes by me\\bank values\"\n",
    "    df.to_csv(f\"{path}\\\\{i}.csv\",index=False)"
   ]
  },
  {
   "cell_type": "code",
   "execution_count": null,
   "id": "274bbae2-f2c9-4f1a-975b-d32ef8360c5a",
   "metadata": {},
   "outputs": [],
   "source": [
    "for i in colm:\n",
    "    dnf=bank_df[i].value_counts()\n",
    "    keys=dnf.keys()\n",
    "    values=dnf.values\n",
    "    col=[\"lable\",\"count\"]\n",
    "    df=pd.DataFrame(zip(keys,values),columns=col)\n",
    "\n",
    "    \n",
    "    plt.bar(\"lable\",\"count\",data=df)\n",
    "    plt.title(\"Bar chart\")\n",
    "    plt.xlabel(\"class\")\n",
    "    plt.ylabel(\"class frequency\")\n",
    "    plt.show()\n",
    "    \n",
    "    path=r\"C:\\Users\\Mrityunjay\\Desktop\\Data science naresh it\\Class notes by me\\bank values\"\n",
    "    plt.savefig(f\"{path}\\\\{i}.jpg\")"
   ]
  },
  {
   "cell_type": "code",
   "execution_count": null,
   "id": "e3bee7d9-176c-4406-9f3b-79583ec4b464",
   "metadata": {},
   "outputs": [],
   "source": []
  },
  {
   "cell_type": "code",
   "execution_count": null,
   "id": "2c4c5bf7-adfc-426c-af08-950004f80a11",
   "metadata": {},
   "outputs": [],
   "source": [
    "$task=3$\n",
    "\n",
    "we can use seaborn and matplotlib\n",
    "seborn: countplot required for row data and direct columns and main data\n",
    "\n",
    "matoplotlib\n",
    "\n",
    "seborn : we required cat colm\n",
    "we required data sets\n",
    "\n",
    "matplotlib;\n",
    "- start with matploytlib \n"
   ]
  },
  {
   "cell_type": "code",
   "execution_count": 23,
   "id": "f8a3532d-40bd-42a4-b22a-d4a0b085fbce",
   "metadata": {},
   "outputs": [
    {
     "data": {
      "text/html": [
       "<div>\n",
       "<style scoped>\n",
       "    .dataframe tbody tr th:only-of-type {\n",
       "        vertical-align: middle;\n",
       "    }\n",
       "\n",
       "    .dataframe tbody tr th {\n",
       "        vertical-align: top;\n",
       "    }\n",
       "\n",
       "    .dataframe thead th {\n",
       "        text-align: right;\n",
       "    }\n",
       "</style>\n",
       "<table border=\"1\" class=\"dataframe\">\n",
       "  <thead>\n",
       "    <tr style=\"text-align: right;\">\n",
       "      <th></th>\n",
       "      <th>case_id</th>\n",
       "      <th>continent</th>\n",
       "      <th>education_of_employee</th>\n",
       "      <th>has_job_experience</th>\n",
       "      <th>requires_job_training</th>\n",
       "      <th>no_of_employees</th>\n",
       "      <th>yr_of_estab</th>\n",
       "      <th>region_of_employment</th>\n",
       "      <th>prevailing_wage</th>\n",
       "      <th>unit_of_wage</th>\n",
       "      <th>full_time_position</th>\n",
       "      <th>case_status</th>\n",
       "    </tr>\n",
       "  </thead>\n",
       "  <tbody>\n",
       "    <tr>\n",
       "      <th>0</th>\n",
       "      <td>EZYV01</td>\n",
       "      <td>Asia</td>\n",
       "      <td>High School</td>\n",
       "      <td>N</td>\n",
       "      <td>N</td>\n",
       "      <td>14513</td>\n",
       "      <td>2007</td>\n",
       "      <td>West</td>\n",
       "      <td>592.2029</td>\n",
       "      <td>Hour</td>\n",
       "      <td>Y</td>\n",
       "      <td>Denied</td>\n",
       "    </tr>\n",
       "    <tr>\n",
       "      <th>1</th>\n",
       "      <td>EZYV02</td>\n",
       "      <td>Asia</td>\n",
       "      <td>Master's</td>\n",
       "      <td>Y</td>\n",
       "      <td>N</td>\n",
       "      <td>2412</td>\n",
       "      <td>2002</td>\n",
       "      <td>Northeast</td>\n",
       "      <td>83425.6500</td>\n",
       "      <td>Year</td>\n",
       "      <td>Y</td>\n",
       "      <td>Certified</td>\n",
       "    </tr>\n",
       "    <tr>\n",
       "      <th>2</th>\n",
       "      <td>EZYV03</td>\n",
       "      <td>Asia</td>\n",
       "      <td>Bachelor's</td>\n",
       "      <td>N</td>\n",
       "      <td>Y</td>\n",
       "      <td>44444</td>\n",
       "      <td>2008</td>\n",
       "      <td>West</td>\n",
       "      <td>122996.8600</td>\n",
       "      <td>Year</td>\n",
       "      <td>Y</td>\n",
       "      <td>Denied</td>\n",
       "    </tr>\n",
       "    <tr>\n",
       "      <th>3</th>\n",
       "      <td>EZYV04</td>\n",
       "      <td>Asia</td>\n",
       "      <td>Bachelor's</td>\n",
       "      <td>N</td>\n",
       "      <td>N</td>\n",
       "      <td>98</td>\n",
       "      <td>1897</td>\n",
       "      <td>West</td>\n",
       "      <td>83434.0300</td>\n",
       "      <td>Year</td>\n",
       "      <td>Y</td>\n",
       "      <td>Denied</td>\n",
       "    </tr>\n",
       "    <tr>\n",
       "      <th>4</th>\n",
       "      <td>EZYV05</td>\n",
       "      <td>Africa</td>\n",
       "      <td>Master's</td>\n",
       "      <td>Y</td>\n",
       "      <td>N</td>\n",
       "      <td>1082</td>\n",
       "      <td>2005</td>\n",
       "      <td>South</td>\n",
       "      <td>149907.3900</td>\n",
       "      <td>Year</td>\n",
       "      <td>Y</td>\n",
       "      <td>Certified</td>\n",
       "    </tr>\n",
       "    <tr>\n",
       "      <th>...</th>\n",
       "      <td>...</td>\n",
       "      <td>...</td>\n",
       "      <td>...</td>\n",
       "      <td>...</td>\n",
       "      <td>...</td>\n",
       "      <td>...</td>\n",
       "      <td>...</td>\n",
       "      <td>...</td>\n",
       "      <td>...</td>\n",
       "      <td>...</td>\n",
       "      <td>...</td>\n",
       "      <td>...</td>\n",
       "    </tr>\n",
       "    <tr>\n",
       "      <th>25475</th>\n",
       "      <td>EZYV25476</td>\n",
       "      <td>Asia</td>\n",
       "      <td>Bachelor's</td>\n",
       "      <td>Y</td>\n",
       "      <td>Y</td>\n",
       "      <td>2601</td>\n",
       "      <td>2008</td>\n",
       "      <td>South</td>\n",
       "      <td>77092.5700</td>\n",
       "      <td>Year</td>\n",
       "      <td>Y</td>\n",
       "      <td>Certified</td>\n",
       "    </tr>\n",
       "    <tr>\n",
       "      <th>25476</th>\n",
       "      <td>EZYV25477</td>\n",
       "      <td>Asia</td>\n",
       "      <td>High School</td>\n",
       "      <td>Y</td>\n",
       "      <td>N</td>\n",
       "      <td>3274</td>\n",
       "      <td>2006</td>\n",
       "      <td>Northeast</td>\n",
       "      <td>279174.7900</td>\n",
       "      <td>Year</td>\n",
       "      <td>Y</td>\n",
       "      <td>Certified</td>\n",
       "    </tr>\n",
       "    <tr>\n",
       "      <th>25477</th>\n",
       "      <td>EZYV25478</td>\n",
       "      <td>Asia</td>\n",
       "      <td>Master's</td>\n",
       "      <td>Y</td>\n",
       "      <td>N</td>\n",
       "      <td>1121</td>\n",
       "      <td>1910</td>\n",
       "      <td>South</td>\n",
       "      <td>146298.8500</td>\n",
       "      <td>Year</td>\n",
       "      <td>N</td>\n",
       "      <td>Certified</td>\n",
       "    </tr>\n",
       "    <tr>\n",
       "      <th>25478</th>\n",
       "      <td>EZYV25479</td>\n",
       "      <td>Asia</td>\n",
       "      <td>Master's</td>\n",
       "      <td>Y</td>\n",
       "      <td>Y</td>\n",
       "      <td>1918</td>\n",
       "      <td>1887</td>\n",
       "      <td>West</td>\n",
       "      <td>86154.7700</td>\n",
       "      <td>Year</td>\n",
       "      <td>Y</td>\n",
       "      <td>Certified</td>\n",
       "    </tr>\n",
       "    <tr>\n",
       "      <th>25479</th>\n",
       "      <td>EZYV25480</td>\n",
       "      <td>Asia</td>\n",
       "      <td>Bachelor's</td>\n",
       "      <td>Y</td>\n",
       "      <td>N</td>\n",
       "      <td>3195</td>\n",
       "      <td>1960</td>\n",
       "      <td>Midwest</td>\n",
       "      <td>70876.9100</td>\n",
       "      <td>Year</td>\n",
       "      <td>Y</td>\n",
       "      <td>Certified</td>\n",
       "    </tr>\n",
       "  </tbody>\n",
       "</table>\n",
       "<p>25480 rows × 12 columns</p>\n",
       "</div>"
      ],
      "text/plain": [
       "         case_id continent education_of_employee has_job_experience  \\\n",
       "0         EZYV01      Asia           High School                  N   \n",
       "1         EZYV02      Asia              Master's                  Y   \n",
       "2         EZYV03      Asia            Bachelor's                  N   \n",
       "3         EZYV04      Asia            Bachelor's                  N   \n",
       "4         EZYV05    Africa              Master's                  Y   \n",
       "...          ...       ...                   ...                ...   \n",
       "25475  EZYV25476      Asia            Bachelor's                  Y   \n",
       "25476  EZYV25477      Asia           High School                  Y   \n",
       "25477  EZYV25478      Asia              Master's                  Y   \n",
       "25478  EZYV25479      Asia              Master's                  Y   \n",
       "25479  EZYV25480      Asia            Bachelor's                  Y   \n",
       "\n",
       "      requires_job_training  no_of_employees  yr_of_estab  \\\n",
       "0                         N            14513         2007   \n",
       "1                         N             2412         2002   \n",
       "2                         Y            44444         2008   \n",
       "3                         N               98         1897   \n",
       "4                         N             1082         2005   \n",
       "...                     ...              ...          ...   \n",
       "25475                     Y             2601         2008   \n",
       "25476                     N             3274         2006   \n",
       "25477                     N             1121         1910   \n",
       "25478                     Y             1918         1887   \n",
       "25479                     N             3195         1960   \n",
       "\n",
       "      region_of_employment  prevailing_wage unit_of_wage full_time_position  \\\n",
       "0                     West         592.2029         Hour                  Y   \n",
       "1                Northeast       83425.6500         Year                  Y   \n",
       "2                     West      122996.8600         Year                  Y   \n",
       "3                     West       83434.0300         Year                  Y   \n",
       "4                    South      149907.3900         Year                  Y   \n",
       "...                    ...              ...          ...                ...   \n",
       "25475                South       77092.5700         Year                  Y   \n",
       "25476            Northeast      279174.7900         Year                  Y   \n",
       "25477                South      146298.8500         Year                  N   \n",
       "25478                 West       86154.7700         Year                  Y   \n",
       "25479              Midwest       70876.9100         Year                  Y   \n",
       "\n",
       "      case_status  \n",
       "0          Denied  \n",
       "1       Certified  \n",
       "2          Denied  \n",
       "3          Denied  \n",
       "4       Certified  \n",
       "...           ...  \n",
       "25475   Certified  \n",
       "25476   Certified  \n",
       "25477   Certified  \n",
       "25478   Certified  \n",
       "25479   Certified  \n",
       "\n",
       "[25480 rows x 12 columns]"
      ]
     },
     "execution_count": 23,
     "metadata": {},
     "output_type": "execute_result"
    }
   ],
   "source": [
    "visa_df"
   ]
  },
  {
   "cell_type": "code",
   "execution_count": 31,
   "id": "324c7f6c-ae4e-4b18-837f-87d9c60e937b",
   "metadata": {},
   "outputs": [
    {
     "data": {
      "text/plain": [
       "Index(['case_id', 'continent', 'education_of_employee', 'has_job_experience',\n",
       "       'requires_job_training', 'no_of_employees', 'yr_of_estab',\n",
       "       'region_of_employment', 'prevailing_wage', 'unit_of_wage',\n",
       "       'full_time_position', 'case_status'],\n",
       "      dtype='object')"
      ]
     },
     "execution_count": 31,
     "metadata": {},
     "output_type": "execute_result"
    }
   ],
   "source": [
    "col=visa_df.columns\n",
    "col"
   ]
  },
  {
   "cell_type": "code",
   "execution_count": 33,
   "id": "23726093-f2a8-4ea3-a4a0-5badea933205",
   "metadata": {},
   "outputs": [],
   "source": [
    "\n",
    "        colm.append(i)\n",
    "    "
   ]
  },
  {
   "cell_type": "code",
   "execution_count": 35,
   "id": "86f5499c-9a5d-4857-b1d7-82969620b167",
   "metadata": {},
   "outputs": [
    {
     "data": {
      "text/plain": [
       "[]"
      ]
     },
     "execution_count": 35,
     "metadata": {},
     "output_type": "execute_result"
    }
   ],
   "source": [
    "colm"
   ]
  },
  {
   "cell_type": "code",
   "execution_count": null,
   "id": "c5de71ac-29d2-4fa0-a6ae-4b1766ffc25d",
   "metadata": {},
   "outputs": [],
   "source": [
    "for i in colm:\n",
    "    dnf=bank_df[i].value_counts()\n",
    "    keys=dnf.keys()\n",
    "    values=dnf.values\n",
    "    col=[\"lable\",\"count\"]\n",
    "    df=pd.DataFrame(zip(keys,values),columns=col)\n",
    "\n",
    "    \n",
    "    plt.bar(\"lable\",\"count\",data=df)\n",
    "    plt.title(\"Bar chart\")\n",
    "    plt.xlabel(\"class\")\n",
    "    plt.ylabel(\"class frequency\")\n",
    "    plt.show()\n",
    "    \n",
    "    path=r\"C:\\Users\\Mrityunjay\\Desktop\\Data science naresh it\\Class notes by me\\bank values\"\n",
    "    plt.savefig(f\"{path}\\\\{i}.jpg\")\n",
    "    "
   ]
  },
  {
   "cell_type": "code",
   "execution_count": 39,
   "id": "e95f1b96-74d2-4db1-9f2d-a4c114cd3eaf",
   "metadata": {},
   "outputs": [
    {
     "data": {
      "text/plain": [
       "'C:\\\\Users\\\\Mrityunjay\\\\Desktop\\\\Data science naresh it\\\\Class notes by me'"
      ]
     },
     "execution_count": 39,
     "metadata": {},
     "output_type": "execute_result"
    }
   ],
   "source": [
    "import os\n",
    "os.getcwd()"
   ]
  },
  {
   "cell_type": "code",
   "execution_count": null,
   "id": "45ea7283-d0ad-4788-b0bd-562a176446b7",
   "metadata": {},
   "outputs": [],
   "source": [
    "**os.makedirs()**\n",
    "- makedirs create leafs directory\n",
    "- means it will take the current working directory and create one extra folder \n",
    "\n",
    "\n",
    "- which one steps ahead of eda folder :EDA_graphs\n",
    "- pass the full pathe inside makedirs()\n",
    "\n",
    "full path='C:\\\\Users\\\\Mrityunjay\\\\Desktop\\\\Data science naresh it\\\\Class notes by me'\n"
   ]
  },
  {
   "cell_type": "code",
   "execution_count": 43,
   "id": "568b40d4-6bc3-4bca-ac14-5b3c75f19596",
   "metadata": {},
   "outputs": [
    {
     "data": {
      "text/plain": [
       "'C:\\\\Users\\\\Mrityunjay\\\\Desktop\\\\Data science naresh it\\\\Class notes by me'"
      ]
     },
     "execution_count": 43,
     "metadata": {},
     "output_type": "execute_result"
    }
   ],
   "source": [
    "import os\n",
    "os.getcwd()"
   ]
  },
  {
   "cell_type": "code",
   "execution_count": 53,
   "id": "cddad8e8-0216-4b51-9a97-77d39466a887",
   "metadata": {},
   "outputs": [
    {
     "ename": "FileExistsError",
     "evalue": "[WinError 183] Cannot create a file when that file already exists: 'C:\\\\Users\\\\Mrityunjay\\\\Desktop\\\\Data science naresh it\\\\Class notes by me\\\\graph_'",
     "output_type": "error",
     "traceback": [
      "\u001b[1;31m---------------------------------------------------------------------------\u001b[0m",
      "\u001b[1;31mFileExistsError\u001b[0m                           Traceback (most recent call last)",
      "Cell \u001b[1;32mIn[53], line 1\u001b[0m\n\u001b[1;32m----> 1\u001b[0m os\u001b[38;5;241m.\u001b[39mmakedirs(\u001b[38;5;124m'\u001b[39m\u001b[38;5;124mC:\u001b[39m\u001b[38;5;130;01m\\\\\u001b[39;00m\u001b[38;5;124mUsers\u001b[39m\u001b[38;5;130;01m\\\\\u001b[39;00m\u001b[38;5;124mMrityunjay\u001b[39m\u001b[38;5;130;01m\\\\\u001b[39;00m\u001b[38;5;124mDesktop\u001b[39m\u001b[38;5;130;01m\\\\\u001b[39;00m\u001b[38;5;124mData science naresh it\u001b[39m\u001b[38;5;130;01m\\\\\u001b[39;00m\u001b[38;5;124mClass notes by me\u001b[39m\u001b[38;5;130;01m\\\\\u001b[39;00m\u001b[38;5;124mgraph_\u001b[39m\u001b[38;5;124m'\u001b[39m)\n",
      "File \u001b[1;32m<frozen os>:225\u001b[0m, in \u001b[0;36mmakedirs\u001b[1;34m(name, mode, exist_ok)\u001b[0m\n",
      "\u001b[1;31mFileExistsError\u001b[0m: [WinError 183] Cannot create a file when that file already exists: 'C:\\\\Users\\\\Mrityunjay\\\\Desktop\\\\Data science naresh it\\\\Class notes by me\\\\graph_'"
     ]
    }
   ],
   "source": [
    "os.makedirs('C:\\\\Users\\\\Mrityunjay\\\\Desktop\\\\Data science naresh it\\\\Class notes by me\\\\graph_')\n"
   ]
  },
  {
   "cell_type": "code",
   "execution_count": 55,
   "id": "bbae3e8b-5165-49de-a173-a5030b33a737",
   "metadata": {},
   "outputs": [],
   "source": [
    "os.makedirs('C:\\\\Users\\\\Mrityunjay\\\\Desktop\\\\Data science naresh it\\\\Class notes by me\\\\graph_seaborn')"
   ]
  },
  {
   "cell_type": "code",
   "execution_count": null,
   "id": "e5ac9cd4-420e-40ae-ba70-62454f3c165e",
   "metadata": {},
   "outputs": [],
   "source": []
  },
  {
   "cell_type": "code",
   "execution_count": null,
   "id": "44ba51e6-29e4-40ab-974a-18f7c353f1dd",
   "metadata": {},
   "outputs": [],
   "source": [
    "step=1\n",
    "root_directort :os.getcwd()   dirctory\n",
    "\n",
    "\n",
    "step=2\n",
    "new folder= graph_seaborn\n",
    "\n",
    "\n",
    "step3= new_dir =os.path.join(root_dirctory,new_folder)\n",
    "new dir="
   ]
  },
  {
   "cell_type": "code",
   "execution_count": 59,
   "id": "e104348f-4046-442b-88f4-934aa15de2f7",
   "metadata": {},
   "outputs": [
    {
     "ename": "NameError",
     "evalue": "name 'graph_' is not defined",
     "output_type": "error",
     "traceback": [
      "\u001b[1;31m---------------------------------------------------------------------------\u001b[0m",
      "\u001b[1;31mNameError\u001b[0m                                 Traceback (most recent call last)",
      "Cell \u001b[1;32mIn[59], line 1\u001b[0m\n\u001b[1;32m----> 1\u001b[0m new_dir \u001b[38;5;241m=\u001b[39mos\u001b[38;5;241m.\u001b[39mpath\u001b[38;5;241m.\u001b[39mjoin(graph_,graph_seaborn)\n",
      "\u001b[1;31mNameError\u001b[0m: name 'graph_' is not defined"
     ]
    }
   ],
   "source": [
    "\n",
    "new_dir =os.path.join(graph_,graph_seaborn)\n",
    "\n"
   ]
  },
  {
   "cell_type": "code",
   "execution_count": null,
   "id": "5c0da9b2-e07b-4ca5-a6d7-b57d4c86be4f",
   "metadata": {},
   "outputs": [],
   "source": []
  },
  {
   "cell_type": "code",
   "execution_count": null,
   "id": "59921d46-409e-42da-8618-9d6caa94e0e0",
   "metadata": {},
   "outputs": [],
   "source": [
    "try:\n",
    "    root_directory=os.getcwd()\n",
    "    new_folder=\"graph_seborn\"\n",
    "    new_dir=os.path.join(graph_,graph_seaborn)\n",
    "\n",
    "except:\n",
    "    "
   ]
  },
  {
   "cell_type": "code",
   "execution_count": 63,
   "id": "44caedaa-3726-48b7-9537-2d46cbed55da",
   "metadata": {},
   "outputs": [],
   "source": [
    "root_directory=os.getcwd()\n",
    "new_folder=\"graph_seborn\"\n",
    "new_dir=os.path.join(root_directory,new_folder)"
   ]
  },
  {
   "cell_type": "code",
   "execution_count": 65,
   "id": "222aa141-c8f3-4c20-b5fc-95166dc720f8",
   "metadata": {},
   "outputs": [
    {
     "data": {
      "text/plain": [
       "'C:\\\\Users\\\\Mrityunjay\\\\Desktop\\\\Data science naresh it\\\\Class notes by me\\\\graph_seborn'"
      ]
     },
     "execution_count": 65,
     "metadata": {},
     "output_type": "execute_result"
    }
   ],
   "source": [
    "new_dir"
   ]
  },
  {
   "cell_type": "code",
   "execution_count": 67,
   "id": "906158b0-0349-4664-8ebe-c3035b3dce47",
   "metadata": {},
   "outputs": [
    {
     "data": {
      "text/plain": [
       "'C:\\\\Users\\\\Mrityunjay\\\\Desktop\\\\Data science naresh it\\\\Class notes by me\\\\graph_seborncontnent'"
      ]
     },
     "execution_count": 67,
     "metadata": {},
     "output_type": "execute_result"
    }
   ],
   "source": [
    "new_dir+\"contnent\""
   ]
  },
  {
   "cell_type": "code",
   "execution_count": 69,
   "id": "5a0feca7-3c49-4c47-ae91-b073564c37df",
   "metadata": {},
   "outputs": [
    {
     "data": {
      "text/plain": [
       "'C:\\\\Users\\\\Mrityunjay\\\\Desktop\\\\Data science naresh it\\\\Class notes by me\\\\graph_seborn'"
      ]
     },
     "execution_count": 69,
     "metadata": {},
     "output_type": "execute_result"
    }
   ],
   "source": [
    "new_dir"
   ]
  },
  {
   "cell_type": "code",
   "execution_count": 71,
   "id": "46934200-11f1-4bbe-a81c-5a3bc490c68a",
   "metadata": {},
   "outputs": [
    {
     "data": {
      "text/plain": [
       "\"C:\\\\Users\\\\Mrityunjay\\\\Desktop\\\\Data science naresh it\\\\Class notes by me\\\\graph_seborn'\\\\'case_status.jpg\""
      ]
     },
     "execution_count": 71,
     "metadata": {},
     "output_type": "execute_result"
    }
   ],
   "source": [
    "f\"{new_dir}'\\\\'{i}.jpg\""
   ]
  },
  {
   "cell_type": "code",
   "execution_count": 87,
   "id": "3a7244ca-6660-42b4-9648-b970aa023aaf",
   "metadata": {},
   "outputs": [],
   "source": [
    "for i in colm:\n",
    "    dnf=bank_df[i].value_counts()\n",
    "    keys=dnf.keys()\n",
    "    values=dnf.values\n",
    "    col=[\"lable\",\"count\"]\n",
    "    df=pd.DataFrame(zip(keys,values),columns=col)\n",
    "\n",
    "    \n",
    "    plt.bar(\"lable\",\"count\",data=df)\n",
    "    plt.title(\"Bar chart\")\n",
    "    plt.xlabel(\"class\")\n",
    "    plt.ylabel(\"class frequency\")\n",
    "    \n",
    "   # path=r\"C:\\Users\\Mrityunjay\\Desktop\\Data science naresh it\\Class notes by me\\bank values\"\n",
    "    plt.savefig(f\"{new_dir}\\\\{i}_seaborn.jpg\")\n",
    "    plt.show()"
   ]
  },
  {
   "cell_type": "code",
   "execution_count": 77,
   "id": "50e48c29-6178-43f6-afbd-af5be4fc7ca7",
   "metadata": {},
   "outputs": [
    {
     "data": {
      "text/plain": [
       "'C:\\\\Users\\\\Mrityunjay\\\\Desktop\\\\Data science naresh it\\\\Class notes by me\\\\graph_seborn'"
      ]
     },
     "execution_count": 77,
     "metadata": {},
     "output_type": "execute_result"
    }
   ],
   "source": [
    "new_dir"
   ]
  },
  {
   "cell_type": "code",
   "execution_count": null,
   "id": "c6284b2a-fc23-4c30-8e20-668fa17d07bb",
   "metadata": {},
   "outputs": [],
   "source": [
    "C:\\Users\\Mrityunjay\\Desktop\\Data science naresh it\\Class notes by me\\graph_seaborn"
   ]
  },
  {
   "cell_type": "code",
   "execution_count": null,
   "id": "7541b79d-a04a-4cbb-849e-d510b010180e",
   "metadata": {},
   "outputs": [],
   "source": [
    "Tasks=4\n"
   ]
  },
  {
   "cell_type": "code",
   "execution_count": 89,
   "id": "99ab0b8c-086d-4cb1-b10d-43888a051ebf",
   "metadata": {},
   "outputs": [
    {
     "data": {
      "text/html": [
       "<div>\n",
       "<style scoped>\n",
       "    .dataframe tbody tr th:only-of-type {\n",
       "        vertical-align: middle;\n",
       "    }\n",
       "\n",
       "    .dataframe tbody tr th {\n",
       "        vertical-align: top;\n",
       "    }\n",
       "\n",
       "    .dataframe thead th {\n",
       "        text-align: right;\n",
       "    }\n",
       "</style>\n",
       "<table border=\"1\" class=\"dataframe\">\n",
       "  <thead>\n",
       "    <tr style=\"text-align: right;\">\n",
       "      <th></th>\n",
       "      <th>case_id</th>\n",
       "      <th>continent</th>\n",
       "      <th>education_of_employee</th>\n",
       "      <th>has_job_experience</th>\n",
       "      <th>requires_job_training</th>\n",
       "      <th>no_of_employees</th>\n",
       "      <th>yr_of_estab</th>\n",
       "      <th>region_of_employment</th>\n",
       "      <th>prevailing_wage</th>\n",
       "      <th>unit_of_wage</th>\n",
       "      <th>full_time_position</th>\n",
       "      <th>case_status</th>\n",
       "    </tr>\n",
       "  </thead>\n",
       "  <tbody>\n",
       "    <tr>\n",
       "      <th>0</th>\n",
       "      <td>EZYV01</td>\n",
       "      <td>Asia</td>\n",
       "      <td>High School</td>\n",
       "      <td>N</td>\n",
       "      <td>N</td>\n",
       "      <td>14513</td>\n",
       "      <td>2007</td>\n",
       "      <td>West</td>\n",
       "      <td>592.2029</td>\n",
       "      <td>Hour</td>\n",
       "      <td>Y</td>\n",
       "      <td>Denied</td>\n",
       "    </tr>\n",
       "    <tr>\n",
       "      <th>1</th>\n",
       "      <td>EZYV02</td>\n",
       "      <td>Asia</td>\n",
       "      <td>Master's</td>\n",
       "      <td>Y</td>\n",
       "      <td>N</td>\n",
       "      <td>2412</td>\n",
       "      <td>2002</td>\n",
       "      <td>Northeast</td>\n",
       "      <td>83425.6500</td>\n",
       "      <td>Year</td>\n",
       "      <td>Y</td>\n",
       "      <td>Certified</td>\n",
       "    </tr>\n",
       "    <tr>\n",
       "      <th>2</th>\n",
       "      <td>EZYV03</td>\n",
       "      <td>Asia</td>\n",
       "      <td>Bachelor's</td>\n",
       "      <td>N</td>\n",
       "      <td>Y</td>\n",
       "      <td>44444</td>\n",
       "      <td>2008</td>\n",
       "      <td>West</td>\n",
       "      <td>122996.8600</td>\n",
       "      <td>Year</td>\n",
       "      <td>Y</td>\n",
       "      <td>Denied</td>\n",
       "    </tr>\n",
       "    <tr>\n",
       "      <th>3</th>\n",
       "      <td>EZYV04</td>\n",
       "      <td>Asia</td>\n",
       "      <td>Bachelor's</td>\n",
       "      <td>N</td>\n",
       "      <td>N</td>\n",
       "      <td>98</td>\n",
       "      <td>1897</td>\n",
       "      <td>West</td>\n",
       "      <td>83434.0300</td>\n",
       "      <td>Year</td>\n",
       "      <td>Y</td>\n",
       "      <td>Denied</td>\n",
       "    </tr>\n",
       "    <tr>\n",
       "      <th>4</th>\n",
       "      <td>EZYV05</td>\n",
       "      <td>Africa</td>\n",
       "      <td>Master's</td>\n",
       "      <td>Y</td>\n",
       "      <td>N</td>\n",
       "      <td>1082</td>\n",
       "      <td>2005</td>\n",
       "      <td>South</td>\n",
       "      <td>149907.3900</td>\n",
       "      <td>Year</td>\n",
       "      <td>Y</td>\n",
       "      <td>Certified</td>\n",
       "    </tr>\n",
       "    <tr>\n",
       "      <th>...</th>\n",
       "      <td>...</td>\n",
       "      <td>...</td>\n",
       "      <td>...</td>\n",
       "      <td>...</td>\n",
       "      <td>...</td>\n",
       "      <td>...</td>\n",
       "      <td>...</td>\n",
       "      <td>...</td>\n",
       "      <td>...</td>\n",
       "      <td>...</td>\n",
       "      <td>...</td>\n",
       "      <td>...</td>\n",
       "    </tr>\n",
       "    <tr>\n",
       "      <th>25475</th>\n",
       "      <td>EZYV25476</td>\n",
       "      <td>Asia</td>\n",
       "      <td>Bachelor's</td>\n",
       "      <td>Y</td>\n",
       "      <td>Y</td>\n",
       "      <td>2601</td>\n",
       "      <td>2008</td>\n",
       "      <td>South</td>\n",
       "      <td>77092.5700</td>\n",
       "      <td>Year</td>\n",
       "      <td>Y</td>\n",
       "      <td>Certified</td>\n",
       "    </tr>\n",
       "    <tr>\n",
       "      <th>25476</th>\n",
       "      <td>EZYV25477</td>\n",
       "      <td>Asia</td>\n",
       "      <td>High School</td>\n",
       "      <td>Y</td>\n",
       "      <td>N</td>\n",
       "      <td>3274</td>\n",
       "      <td>2006</td>\n",
       "      <td>Northeast</td>\n",
       "      <td>279174.7900</td>\n",
       "      <td>Year</td>\n",
       "      <td>Y</td>\n",
       "      <td>Certified</td>\n",
       "    </tr>\n",
       "    <tr>\n",
       "      <th>25477</th>\n",
       "      <td>EZYV25478</td>\n",
       "      <td>Asia</td>\n",
       "      <td>Master's</td>\n",
       "      <td>Y</td>\n",
       "      <td>N</td>\n",
       "      <td>1121</td>\n",
       "      <td>1910</td>\n",
       "      <td>South</td>\n",
       "      <td>146298.8500</td>\n",
       "      <td>Year</td>\n",
       "      <td>N</td>\n",
       "      <td>Certified</td>\n",
       "    </tr>\n",
       "    <tr>\n",
       "      <th>25478</th>\n",
       "      <td>EZYV25479</td>\n",
       "      <td>Asia</td>\n",
       "      <td>Master's</td>\n",
       "      <td>Y</td>\n",
       "      <td>Y</td>\n",
       "      <td>1918</td>\n",
       "      <td>1887</td>\n",
       "      <td>West</td>\n",
       "      <td>86154.7700</td>\n",
       "      <td>Year</td>\n",
       "      <td>Y</td>\n",
       "      <td>Certified</td>\n",
       "    </tr>\n",
       "    <tr>\n",
       "      <th>25479</th>\n",
       "      <td>EZYV25480</td>\n",
       "      <td>Asia</td>\n",
       "      <td>Bachelor's</td>\n",
       "      <td>Y</td>\n",
       "      <td>N</td>\n",
       "      <td>3195</td>\n",
       "      <td>1960</td>\n",
       "      <td>Midwest</td>\n",
       "      <td>70876.9100</td>\n",
       "      <td>Year</td>\n",
       "      <td>Y</td>\n",
       "      <td>Certified</td>\n",
       "    </tr>\n",
       "  </tbody>\n",
       "</table>\n",
       "<p>25480 rows × 12 columns</p>\n",
       "</div>"
      ],
      "text/plain": [
       "         case_id continent education_of_employee has_job_experience  \\\n",
       "0         EZYV01      Asia           High School                  N   \n",
       "1         EZYV02      Asia              Master's                  Y   \n",
       "2         EZYV03      Asia            Bachelor's                  N   \n",
       "3         EZYV04      Asia            Bachelor's                  N   \n",
       "4         EZYV05    Africa              Master's                  Y   \n",
       "...          ...       ...                   ...                ...   \n",
       "25475  EZYV25476      Asia            Bachelor's                  Y   \n",
       "25476  EZYV25477      Asia           High School                  Y   \n",
       "25477  EZYV25478      Asia              Master's                  Y   \n",
       "25478  EZYV25479      Asia              Master's                  Y   \n",
       "25479  EZYV25480      Asia            Bachelor's                  Y   \n",
       "\n",
       "      requires_job_training  no_of_employees  yr_of_estab  \\\n",
       "0                         N            14513         2007   \n",
       "1                         N             2412         2002   \n",
       "2                         Y            44444         2008   \n",
       "3                         N               98         1897   \n",
       "4                         N             1082         2005   \n",
       "...                     ...              ...          ...   \n",
       "25475                     Y             2601         2008   \n",
       "25476                     N             3274         2006   \n",
       "25477                     N             1121         1910   \n",
       "25478                     Y             1918         1887   \n",
       "25479                     N             3195         1960   \n",
       "\n",
       "      region_of_employment  prevailing_wage unit_of_wage full_time_position  \\\n",
       "0                     West         592.2029         Hour                  Y   \n",
       "1                Northeast       83425.6500         Year                  Y   \n",
       "2                     West      122996.8600         Year                  Y   \n",
       "3                     West       83434.0300         Year                  Y   \n",
       "4                    South      149907.3900         Year                  Y   \n",
       "...                    ...              ...          ...                ...   \n",
       "25475                South       77092.5700         Year                  Y   \n",
       "25476            Northeast      279174.7900         Year                  Y   \n",
       "25477                South      146298.8500         Year                  N   \n",
       "25478                 West       86154.7700         Year                  Y   \n",
       "25479              Midwest       70876.9100         Year                  Y   \n",
       "\n",
       "      case_status  \n",
       "0          Denied  \n",
       "1       Certified  \n",
       "2          Denied  \n",
       "3          Denied  \n",
       "4       Certified  \n",
       "...           ...  \n",
       "25475   Certified  \n",
       "25476   Certified  \n",
       "25477   Certified  \n",
       "25478   Certified  \n",
       "25479   Certified  \n",
       "\n",
       "[25480 rows x 12 columns]"
      ]
     },
     "execution_count": 89,
     "metadata": {},
     "output_type": "execute_result"
    }
   ],
   "source": [
    "visa_df"
   ]
  },
  {
   "cell_type": "code",
   "execution_count": 93,
   "id": "0c20ce07-fb3d-491d-8672-ceb9cd7194bf",
   "metadata": {},
   "outputs": [
    {
     "data": {
      "text/plain": [
       "Index(['case_id', 'continent', 'education_of_employee', 'has_job_experience',\n",
       "       'requires_job_training', 'no_of_employees', 'yr_of_estab',\n",
       "       'region_of_employment', 'prevailing_wage', 'unit_of_wage',\n",
       "       'full_time_position', 'case_status'],\n",
       "      dtype='object')"
      ]
     },
     "execution_count": 93,
     "metadata": {},
     "output_type": "execute_result"
    }
   ],
   "source": [
    "col=visa_df.columns"
   ]
  },
  {
   "cell_type": "code",
   "execution_count": 97,
   "id": "dc109b76-6076-4f2e-aa36-1129d01ea91c",
   "metadata": {},
   "outputs": [
    {
     "ename": "KeyError",
     "evalue": "'count'",
     "output_type": "error",
     "traceback": [
      "\u001b[1;31m---------------------------------------------------------------------------\u001b[0m",
      "\u001b[1;31mKeyError\u001b[0m                                  Traceback (most recent call last)",
      "File \u001b[1;32m~\\anaconda3\\Lib\\site-packages\\pandas\\core\\indexes\\base.py:3805\u001b[0m, in \u001b[0;36mIndex.get_loc\u001b[1;34m(self, key)\u001b[0m\n\u001b[0;32m   3804\u001b[0m \u001b[38;5;28;01mtry\u001b[39;00m:\n\u001b[1;32m-> 3805\u001b[0m     \u001b[38;5;28;01mreturn\u001b[39;00m \u001b[38;5;28mself\u001b[39m\u001b[38;5;241m.\u001b[39m_engine\u001b[38;5;241m.\u001b[39mget_loc(casted_key)\n\u001b[0;32m   3806\u001b[0m \u001b[38;5;28;01mexcept\u001b[39;00m \u001b[38;5;167;01mKeyError\u001b[39;00m \u001b[38;5;28;01mas\u001b[39;00m err:\n",
      "File \u001b[1;32mindex.pyx:167\u001b[0m, in \u001b[0;36mpandas._libs.index.IndexEngine.get_loc\u001b[1;34m()\u001b[0m\n",
      "File \u001b[1;32mindex.pyx:196\u001b[0m, in \u001b[0;36mpandas._libs.index.IndexEngine.get_loc\u001b[1;34m()\u001b[0m\n",
      "File \u001b[1;32mpandas\\\\_libs\\\\hashtable_class_helper.pxi:7081\u001b[0m, in \u001b[0;36mpandas._libs.hashtable.PyObjectHashTable.get_item\u001b[1;34m()\u001b[0m\n",
      "File \u001b[1;32mpandas\\\\_libs\\\\hashtable_class_helper.pxi:7089\u001b[0m, in \u001b[0;36mpandas._libs.hashtable.PyObjectHashTable.get_item\u001b[1;34m()\u001b[0m\n",
      "\u001b[1;31mKeyError\u001b[0m: 'count'",
      "\nThe above exception was the direct cause of the following exception:\n",
      "\u001b[1;31mKeyError\u001b[0m                                  Traceback (most recent call last)",
      "Cell \u001b[1;32mIn[97], line 2\u001b[0m\n\u001b[0;32m      1\u001b[0m \u001b[38;5;28;01mfor\u001b[39;00m i \u001b[38;5;129;01min\u001b[39;00m col[\u001b[38;5;241m1\u001b[39m:]:\n\u001b[1;32m----> 2\u001b[0m     dnf\u001b[38;5;241m=\u001b[39mvisa_df[i]\u001b[38;5;241m.\u001b[39mvalue_counts()\n\u001b[0;32m      3\u001b[0m     keys\u001b[38;5;241m=\u001b[39mdnf\u001b[38;5;241m.\u001b[39mkeys()\n\u001b[0;32m      4\u001b[0m     values\u001b[38;5;241m=\u001b[39mdnf\u001b[38;5;241m.\u001b[39mvalues\n",
      "File \u001b[1;32m~\\anaconda3\\Lib\\site-packages\\pandas\\core\\frame.py:4102\u001b[0m, in \u001b[0;36mDataFrame.__getitem__\u001b[1;34m(self, key)\u001b[0m\n\u001b[0;32m   4100\u001b[0m \u001b[38;5;28;01mif\u001b[39;00m \u001b[38;5;28mself\u001b[39m\u001b[38;5;241m.\u001b[39mcolumns\u001b[38;5;241m.\u001b[39mnlevels \u001b[38;5;241m>\u001b[39m \u001b[38;5;241m1\u001b[39m:\n\u001b[0;32m   4101\u001b[0m     \u001b[38;5;28;01mreturn\u001b[39;00m \u001b[38;5;28mself\u001b[39m\u001b[38;5;241m.\u001b[39m_getitem_multilevel(key)\n\u001b[1;32m-> 4102\u001b[0m indexer \u001b[38;5;241m=\u001b[39m \u001b[38;5;28mself\u001b[39m\u001b[38;5;241m.\u001b[39mcolumns\u001b[38;5;241m.\u001b[39mget_loc(key)\n\u001b[0;32m   4103\u001b[0m \u001b[38;5;28;01mif\u001b[39;00m is_integer(indexer):\n\u001b[0;32m   4104\u001b[0m     indexer \u001b[38;5;241m=\u001b[39m [indexer]\n",
      "File \u001b[1;32m~\\anaconda3\\Lib\\site-packages\\pandas\\core\\indexes\\base.py:3812\u001b[0m, in \u001b[0;36mIndex.get_loc\u001b[1;34m(self, key)\u001b[0m\n\u001b[0;32m   3807\u001b[0m     \u001b[38;5;28;01mif\u001b[39;00m \u001b[38;5;28misinstance\u001b[39m(casted_key, \u001b[38;5;28mslice\u001b[39m) \u001b[38;5;129;01mor\u001b[39;00m (\n\u001b[0;32m   3808\u001b[0m         \u001b[38;5;28misinstance\u001b[39m(casted_key, abc\u001b[38;5;241m.\u001b[39mIterable)\n\u001b[0;32m   3809\u001b[0m         \u001b[38;5;129;01mand\u001b[39;00m \u001b[38;5;28many\u001b[39m(\u001b[38;5;28misinstance\u001b[39m(x, \u001b[38;5;28mslice\u001b[39m) \u001b[38;5;28;01mfor\u001b[39;00m x \u001b[38;5;129;01min\u001b[39;00m casted_key)\n\u001b[0;32m   3810\u001b[0m     ):\n\u001b[0;32m   3811\u001b[0m         \u001b[38;5;28;01mraise\u001b[39;00m InvalidIndexError(key)\n\u001b[1;32m-> 3812\u001b[0m     \u001b[38;5;28;01mraise\u001b[39;00m \u001b[38;5;167;01mKeyError\u001b[39;00m(key) \u001b[38;5;28;01mfrom\u001b[39;00m \u001b[38;5;21;01merr\u001b[39;00m\n\u001b[0;32m   3813\u001b[0m \u001b[38;5;28;01mexcept\u001b[39;00m \u001b[38;5;167;01mTypeError\u001b[39;00m:\n\u001b[0;32m   3814\u001b[0m     \u001b[38;5;66;03m# If we have a listlike key, _check_indexing_error will raise\u001b[39;00m\n\u001b[0;32m   3815\u001b[0m     \u001b[38;5;66;03m#  InvalidIndexError. Otherwise we fall through and re-raise\u001b[39;00m\n\u001b[0;32m   3816\u001b[0m     \u001b[38;5;66;03m#  the TypeError.\u001b[39;00m\n\u001b[0;32m   3817\u001b[0m     \u001b[38;5;28mself\u001b[39m\u001b[38;5;241m.\u001b[39m_check_indexing_error(key)\n",
      "\u001b[1;31mKeyError\u001b[0m: 'count'"
     ]
    }
   ],
   "source": [
    "for i in col[1:]:\n",
    "    dnf=visa_df[i].value_counts()\n",
    "    keys=dnf.keys()\n",
    "    values=dnf.values\n",
    "    col=[\"lable\",\"count\"]\n",
    "    df=pd.DataFrame(zip(keys,values),columns=col)\n",
    "\n",
    "    \n",
    "    plt.bar(\"lable\",\"count\",data=df)\n",
    "    plt.title(\"Bar chart\")\n",
    "    plt.xlabel(\"class\")\n",
    "    plt.ylabel(\"class frequency\")\n",
    "    \n",
    "   # path=r\"C:\\Users\\Mrityunjay\\Desktop\\Data science naresh it\\Class notes by me\\bank values\"\n",
    "    plt.savefig(f\"{new_dir}\\\\{i}.jpg\")\n",
    "    plt.show()"
   ]
  },
  {
   "cell_type": "code",
   "execution_count": null,
   "id": "c7534ffe-331d-48c3-aaf7-79d90ea2c90d",
   "metadata": {},
   "outputs": [],
   "source": [
    "for i in col[1:]:\n",
    "    dnf=visa_df[i].value_counts()\n",
    "    keys=dnf.keys()\n",
    "    values=dnf.values\n",
    "    col=[\"lable\",\"count\"]\n",
    "    df=pd.DataFrame(zip(keys,values),columns=col)\n",
    "\n",
    "    \n",
    "    plt.bar(\"lable\",\"count\",data=df)\n",
    "    plt.title(\"Bar chart\")\n",
    "    plt.xlabel(\"class\")\n",
    "    plt.ylabel(\"class frequency\")\n",
    "    \n",
    "   # path=r\"C:\\Users\\Mrityunjay\\Desktop\\Data science naresh it\\Class notes by me\\bank values\"\n",
    "    plt.savefig(f\"{new_dir}\\\\{i}.jpg\")\n",
    "    plt.show()"
   ]
  },
  {
   "cell_type": "code",
   "execution_count": 101,
   "id": "bd0174d3-125e-4ace-9397-f76820c0f14c",
   "metadata": {},
   "outputs": [
    {
     "data": {
      "text/plain": [
       "['age.csv',\n",
       " 'age.jpg',\n",
       " 'balance.csv',\n",
       " 'balance.jpg',\n",
       " 'campaign.csv',\n",
       " 'campaign.jpg',\n",
       " 'case_status.csv',\n",
       " 'contact.csv',\n",
       " 'contact.jpg',\n",
       " 'continent.csv',\n",
       " 'day.csv',\n",
       " 'day.jpg',\n",
       " 'default.csv',\n",
       " 'default.jpg',\n",
       " 'duration.csv',\n",
       " 'duration.jpg',\n",
       " 'education.csv',\n",
       " 'education.jpg',\n",
       " 'education_of_employee.csv',\n",
       " 'full_time_position.csv',\n",
       " 'has_job_experience.csv',\n",
       " 'housing.csv',\n",
       " 'housing.jpg',\n",
       " 'job.csv',\n",
       " 'job.jpg',\n",
       " 'loan.csv',\n",
       " 'loan.jpg',\n",
       " 'marital.csv',\n",
       " 'marital.jpg',\n",
       " 'month.csv',\n",
       " 'month.jpg',\n",
       " 'no_of_employees.csv',\n",
       " 'pdays.csv',\n",
       " 'pdays.jpg',\n",
       " 'poutcome.csv',\n",
       " 'poutcome.jpg',\n",
       " 'prevailing_wage.csv',\n",
       " 'previous.csv',\n",
       " 'previous.jpg',\n",
       " 'region_of_employment.csv',\n",
       " 'requires_job_training.csv',\n",
       " 'unit_of_wage.csv',\n",
       " 'y.csv',\n",
       " 'y.jpg',\n",
       " 'yr_of_estab.csv']"
      ]
     },
     "execution_count": 101,
     "metadata": {},
     "output_type": "execute_result"
    }
   ],
   "source": [
    "dfs=os.listdir(r\"C:\\Users\\Mrityunjay\\Desktop\\Data science naresh it\\Class notes by me\\bank values\")\n",
    "dfs"
   ]
  },
  {
   "cell_type": "code",
   "execution_count": 111,
   "id": "1a6b5675-309e-4499-80ae-47edb2692b76",
   "metadata": {},
   "outputs": [
    {
     "data": {
      "text/plain": [
       "'C:\\\\Users\\\\Mrityunjay\\\\Desktop\\\\Data science naresh it\\\\Class notes by me\\\\bank values'"
      ]
     },
     "execution_count": 111,
     "metadata": {},
     "output_type": "execute_result"
    }
   ],
   "source": [
    "root_dir=os.getcwd()\n",
    "new_folder=\"bank values\"\n",
    "dir=os.path.join(root_dir,new_folder)\n",
    "dir"
   ]
  },
  {
   "cell_type": "code",
   "execution_count": 117,
   "id": "378c42c0-536c-49a0-aad1-7976c42ed192",
   "metadata": {},
   "outputs": [
    {
     "data": {
      "text/plain": [
       "['age.csv',\n",
       " 'age.jpg',\n",
       " 'balance.csv',\n",
       " 'balance.jpg',\n",
       " 'campaign.csv',\n",
       " 'campaign.jpg',\n",
       " 'case_status.csv',\n",
       " 'contact.csv',\n",
       " 'contact.jpg',\n",
       " 'continent.csv',\n",
       " 'day.csv',\n",
       " 'day.jpg',\n",
       " 'default.csv',\n",
       " 'default.jpg',\n",
       " 'duration.csv',\n",
       " 'duration.jpg',\n",
       " 'education.csv',\n",
       " 'education.jpg',\n",
       " 'education_of_employee.csv',\n",
       " 'full_time_position.csv',\n",
       " 'has_job_experience.csv',\n",
       " 'housing.csv',\n",
       " 'housing.jpg',\n",
       " 'job.csv',\n",
       " 'job.jpg',\n",
       " 'loan.csv',\n",
       " 'loan.jpg',\n",
       " 'marital.csv',\n",
       " 'marital.jpg',\n",
       " 'month.csv',\n",
       " 'month.jpg',\n",
       " 'no_of_employees.csv',\n",
       " 'pdays.csv',\n",
       " 'pdays.jpg',\n",
       " 'poutcome.csv',\n",
       " 'poutcome.jpg',\n",
       " 'prevailing_wage.csv',\n",
       " 'previous.csv',\n",
       " 'previous.jpg',\n",
       " 'region_of_employment.csv',\n",
       " 'requires_job_training.csv',\n",
       " 'unit_of_wage.csv',\n",
       " 'y.csv',\n",
       " 'y.jpg',\n",
       " 'yr_of_estab.csv']"
      ]
     },
     "execution_count": 117,
     "metadata": {},
     "output_type": "execute_result"
    }
   ],
   "source": [
    "dfs=os.listdir(dir)\n",
    "dfs"
   ]
  },
  {
   "cell_type": "code",
   "execution_count": 119,
   "id": "06a374f1-fffe-4acc-af0c-85c32ecd5377",
   "metadata": {},
   "outputs": [
    {
     "data": {
      "text/plain": [
       "Index(['case_id', 'continent', 'education_of_employee', 'has_job_experience',\n",
       "       'requires_job_training', 'no_of_employees', 'yr_of_estab',\n",
       "       'region_of_employment', 'prevailing_wage', 'unit_of_wage',\n",
       "       'full_time_position', 'case_status'],\n",
       "      dtype='object')"
      ]
     },
     "execution_count": 119,
     "metadata": {},
     "output_type": "execute_result"
    }
   ],
   "source": [
    "visa_df.columns"
   ]
  },
  {
   "cell_type": "code",
   "execution_count": 1,
   "id": "3a3b2bcf-2097-46b9-aead-78b305e4705e",
   "metadata": {},
   "outputs": [
    {
     "ename": "NameError",
     "evalue": "name 'dfs' is not defined",
     "output_type": "error",
     "traceback": [
      "\u001b[1;31m---------------------------------------------------------------------------\u001b[0m",
      "\u001b[1;31mNameError\u001b[0m                                 Traceback (most recent call last)",
      "Cell \u001b[1;32mIn[1], line 1\u001b[0m\n\u001b[1;32m----> 1\u001b[0m \u001b[38;5;28;01mfor\u001b[39;00m i \u001b[38;5;129;01min\u001b[39;00m dfs:\n\u001b[0;32m      2\u001b[0m     df\u001b[38;5;241m.\u001b[39mread_read(i)\n",
      "\u001b[1;31mNameError\u001b[0m: name 'dfs' is not defined"
     ]
    }
   ],
   "source": [
    "for i in dfs:\n",
    "    df.read_read(i)"
   ]
  },
  {
   "cell_type": "code",
   "execution_count": 13,
   "id": "4a08cb76-0dbb-4819-98d2-9b12198a8304",
   "metadata": {},
   "outputs": [
    {
     "data": {
      "text/plain": [
       "0"
      ]
     },
     "execution_count": 13,
     "metadata": {},
     "output_type": "execute_result"
    }
   ],
   "source": [
    "l1=[1,2,3,4,\"m\"]\n",
    "\n",
    "l1.index(1)"
   ]
  },
  {
   "cell_type": "code",
   "execution_count": 17,
   "id": "add2bcb4-1054-4202-b1f0-732cf8373c37",
   "metadata": {},
   "outputs": [],
   "source": [
    "import os\n",
    "root_dir=os.getcwd()\n",
    "n=\"kd\"\n",
    "nm=os.path.join(root_dir,n)"
   ]
  },
  {
   "cell_type": "code",
   "execution_count": 19,
   "id": "cd580085-f8e0-487b-9fc8-c713353d77fa",
   "metadata": {},
   "outputs": [],
   "source": [
    "os.makedirs(nm)"
   ]
  },
  {
   "cell_type": "code",
   "execution_count": 31,
   "id": "1b419c3d-5531-4188-a649-74e662fa490f",
   "metadata": {},
   "outputs": [],
   "source": [
    "m=visa_df[\"continent\"].value_counts()\n",
    "k=m.keys()\n",
    "l=m.values\n",
    "df=pd.DataFrame(zip(k,l),columns=[\"lab\",\"con\"])\n",
    "df.to_csv(f\"{nm}\\\\.csv\")"
   ]
  },
  {
   "cell_type": "code",
   "execution_count": 37,
   "id": "bba5c40c-7852-4d6b-8828-e925424ba450",
   "metadata": {},
   "outputs": [
    {
     "data": {
      "text/plain": [
       "['.csv']"
      ]
     },
     "execution_count": 37,
     "metadata": {},
     "output_type": "execute_result"
    }
   ],
   "source": [
    "d=os.listdir(nm)\n",
    "d"
   ]
  },
  {
   "cell_type": "code",
   "execution_count": null,
   "id": "38b687af-c7b0-439e-918c-d1a15fda3101",
   "metadata": {},
   "outputs": [],
   "source": []
  },
  {
   "cell_type": "code",
   "execution_count": 51,
   "id": "e0d543d3-3c6e-4552-bf23-b8f388d5ba0f",
   "metadata": {},
   "outputs": [],
   "source": [
    "m=visa_df[\"continent\"].value_counts().keys()"
   ]
  },
  {
   "cell_type": "code",
   "execution_count": 53,
   "id": "7651c24d-bd8b-4c00-a4f7-ae109727787d",
   "metadata": {},
   "outputs": [
    {
     "data": {
      "image/png": "[encoded data removed]",
      "text/plain": [
       "<Figure size 640x480 with 1 Axes>"
      ]
     },
     "metadata": {},
     "output_type": "display_data"
    }
   ],
   "source": [
    "sns.countplot(data=visa_df,\n",
    "             x=\"continent\",\n",
    "             order=m)\n",
    "plt.show()"
   ]
  },
  {
   "cell_type": "code",
   "execution_count": null,
   "id": "093cea85-6aee-4bb3-9016-b52fceb4efb8",
   "metadata": {},
   "outputs": [],
   "source": []
  }
 ],
 "metadata": {
  "kernelspec": {
   "display_name": "Python 3 (ipykernel)",
   "language": "python",
   "name": "python3"
  },
  "language_info": {
   "codemirror_mode": {
    "name": "ipython",
    "version": 3
   },
   "file_extension": ".py",
   "mimetype": "text/x-python",
   "name": "python",
   "nbconvert_exporter": "python",
   "pygments_lexer": "ipython3",
   "version": "3.12.4"
  }
 },
 "nbformat": 4,
 "nbformat_minor": 5
}
