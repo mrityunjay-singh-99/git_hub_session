{
 "cells": [
  {
   "cell_type": "code",
   "execution_count": 1,
   "id": "b126b6e2-428e-4495-9b2d-3c77aeee39f9",
   "metadata": {},
   "outputs": [
    {
     "name": "stdout",
     "output_type": "stream",
     "text": [
      "[[10 20 30 40]\n",
      " [ 4 54 76 12]]\n"
     ]
    }
   ],
   "source": [
    "#import numpy package \n",
    "import numpy as np\n",
    "list=[[10,20,30,40],[4,54,76,12]]\n",
    "ny=np.array(list)\n",
    "print(ny)\n"
   ]
  },
  {
   "cell_type": "code",
   "execution_count": 4,
   "id": "a4638903-9ad6-4f8d-896e-3fea29cf9a7a",
   "metadata": {},
   "outputs": [
    {
     "name": "stdout",
     "output_type": "stream",
     "text": [
      "<class 'numpy.ndarray'>\n"
     ]
    }
   ],
   "source": [
    "# numpy array type #use list\n",
    "\n",
    "import numpy as np\n",
    "list=[[10,20,30,40],[4,54,76,12]]\n",
    "ny=np.array(list)\n",
    "\n",
    "print(type(ny))"
   ]
  },
  {
   "cell_type": "code",
   "execution_count": null,
   "id": "5507dd09-d549-45b3-bb15-7eaef673f3be",
   "metadata": {},
   "outputs": [],
   "source": [
    "# nidm\n",
    "import numpy as np\n",
    "list=[[10,20,30,40],[4,54,76,12]]\n",
    "ny=np.array(list)\n",
    "print(ny.ndim)\n"
   ]
  },
  {
   "cell_type": "code",
   "execution_count": 5,
   "id": "b4005638-ff4c-422f-bac4-68ee3b25ea81",
   "metadata": {},
   "outputs": [
    {
     "name": "stdout",
     "output_type": "stream",
     "text": [
      "[[10 20 30 40]\n",
      " [ 4 54 76 12]]\n",
      "<class 'numpy.ndarray'>\n",
      "2\n"
     ]
    }
   ],
   "source": [
    "# numpy array type #use tuple\n",
    "#array type , nidm\n",
    "\n",
    "import numpy as np\n",
    "tuple=[(10,20,30,40),(23,43,53,67,)]\n",
    "ny=np.array(list)\n",
    "print(ny)\n",
    "print(type(ny))\n",
    "print(ny.ndim)\n"
   ]
  },
  {
   "cell_type": "code",
   "execution_count": 6,
   "id": "f1cb0e82-6525-46d6-98a8-c1853dc229f4",
   "metadata": {},
   "outputs": [
    {
     "data": {
      "text/plain": [
       "array([10, 30, 54, 12])"
      ]
     },
     "execution_count": 6,
     "metadata": {},
     "output_type": "execute_result"
    }
   ],
   "source": [
    "#slicing numpy array\n",
    "\n",
    "import numpy as np\n",
    "list=[10,20,30,40,54,76,12]\n",
    "ny=np.array(list)\n",
    "\n",
    "ny[::2]"
   ]
  },
  {
   "cell_type": "code",
   "execution_count": 11,
   "id": "e21cabba-fb76-470f-841a-6e9b9fbb903b",
   "metadata": {},
   "outputs": [
    {
     "name": "stdout",
     "output_type": "stream",
     "text": [
      "[0. 0. 0.]\n",
      "[1. 1.]\n"
     ]
    }
   ],
   "source": [
    "#num in numpy arr\n",
    "arr1=np.zeros(3)\n",
    "arr2=np.ones(2)\n",
    "print(arr1)\n",
    "print(arr2)"
   ]
  },
  {
   "cell_type": "code",
   "execution_count": 7,
   "id": "1ab9eaed-4d28-4568-b55e-ba4f9bda8035",
   "metadata": {},
   "outputs": [
    {
     "name": "stdout",
     "output_type": "stream",
     "text": [
      "(4, 3)\n"
     ]
    }
   ],
   "source": [
    "#numpy array shape\n",
    "\n",
    "import numpy as np\n",
    "list2=[[10,23,45],[45,76,78],[54,64,89],[12,34,45]]\n",
    "ny1=np.array(list2)\n",
    "print(ny1.shape)\n"
   ]
  },
  {
   "cell_type": "code",
   "execution_count": 8,
   "id": "38866c8f-716d-4bfe-a6a1-fba00b169b09",
   "metadata": {},
   "outputs": [
    {
     "name": "stdout",
     "output_type": "stream",
     "text": [
      "(4, 3)\n",
      "[[10 45 54 12]\n",
      " [23 76 64 34]\n",
      " [45 78 89 45]]\n"
     ]
    }
   ],
   "source": [
    "# T shape array\n",
    "import numpy as np\n",
    "list2=[[10,23,45],[45,76,78],[54,64,89],[12,34,45]]\n",
    "ny1=np.array(list2)\n",
    "print(ny1.shape)\n",
    "\n",
    "print(ny1.T)"
   ]
  },
  {
   "cell_type": "code",
   "execution_count": 12,
   "id": "1f8d986b-09ed-4ac9-bdd9-3f30f905671e",
   "metadata": {},
   "outputs": [
    {
     "name": "stdout",
     "output_type": "stream",
     "text": [
      "[[10 23 45]\n",
      " [45 76 78]\n",
      " [54 64 89]\n",
      " [12 34 45]]\n",
      "89\n"
     ]
    }
   ],
   "source": [
    "#max \n",
    "import numpy as np\n",
    "list2=[[10,23,45],[45,76,78],[54,64,89],[12,34,45]]\n",
    "ny1=np.array(list2)\n",
    "print(ny1)\n",
    "print(ny1.max())\n"
   ]
  },
  {
   "cell_type": "code",
   "execution_count": 13,
   "id": "4433b560-775d-4bb9-a3c8-1fb190e47515",
   "metadata": {},
   "outputs": [
    {
     "name": "stdout",
     "output_type": "stream",
     "text": [
      "[[10 23 45]\n",
      " [45 76 78]\n",
      " [54 64 89]\n",
      " [12 34 45]]\n",
      "10\n"
     ]
    }
   ],
   "source": [
    "#min\n",
    "import numpy as np\n",
    "list2=[[10,23,45],[45,76,78],[54,64,89],[12,34,45]]\n",
    "ny1=np.array(list2)\n",
    "print(ny1)\n",
    "print(ny1.min())\n"
   ]
  },
  {
   "cell_type": "code",
   "execution_count": 14,
   "id": "85321369-8a20-418d-9592-0019d985d8a9",
   "metadata": {},
   "outputs": [
    {
     "name": "stdout",
     "output_type": "stream",
     "text": [
      "[[10 23 45]\n",
      " [45 76 78]\n",
      " [54 64 89]\n",
      " [12 34 45]]\n",
      "242\n"
     ]
    }
   ],
   "source": [
    "#sum\n",
    "import numpy as np\n",
    "list2=[[10,23,45],[45,76,78],[54,64,89],[12,34,45]]\n",
    "ny1=np.array(list2)\n",
    "print(ny1)\n",
    "print(ny.sum())\n"
   ]
  },
  {
   "cell_type": "code",
   "execution_count": 18,
   "id": "f6e057dd-714f-42cf-91b2-54e40357a661",
   "metadata": {},
   "outputs": [
    {
     "name": "stdout",
     "output_type": "stream",
     "text": [
      "arr:[[10 23 45]\n",
      " [45 76 78]\n",
      " [54 64 89]\n",
      " [12 34 45]]\n",
      "arr1:[[10 23 45]\n",
      " [45 76 78]\n",
      " [54 64 89]\n",
      " [12 34 45]]\n",
      "arr2:[[10 23]\n",
      " [45 45]\n",
      " [76 78]\n",
      " [54 64]\n",
      " [89 12]\n",
      " [34 45]]\n"
     ]
    }
   ],
   "source": [
    "#reshape arr\n",
    "import numpy as np\n",
    "list2=[[10,23,45],[45,76,78],[54,64,89],[12,34,45]]\n",
    "ny1=np.array(list2)\n",
    "print(f\"arr:{ny1}\")\n",
    "print(f\"arr1:{ny1.reshape(4,3)}\")\n",
    "print(f\"arr2:{ny1.reshape(6,2)}\")"
   ]
  },
  {
   "cell_type": "code",
   "execution_count": 45,
   "id": "43c40fca-98d6-4262-85a1-3150bc909eb8",
   "metadata": {},
   "outputs": [
    {
     "name": "stdout",
     "output_type": "stream",
     "text": [
      "13\n"
     ]
    }
   ],
   "source": [
    "#nonzero count\n",
    "\n",
    "import numpy as np\n",
    "list2=[[10,23,0,45],[45,0,76,78],[0,54,64,89],[12,34,45,1]]\n",
    "ny1=np.array(list2)\n",
    "print(np.count_nonzero(ny1))"
   ]
  },
  {
   "cell_type": "code",
   "execution_count": 47,
   "id": "bdd60515-fcc9-4e2e-8d1e-bdede046a936",
   "metadata": {},
   "outputs": [
    {
     "data": {
      "text/plain": [
       "array([[10, 23, 40, 45],\n",
       "       [32, 45, 76, 78],\n",
       "       [12, 54, 64, 89],\n",
       "       [ 2, 12, 34, 45]])"
      ]
     },
     "execution_count": 47,
     "metadata": {},
     "output_type": "execute_result"
    }
   ],
   "source": [
    "#sort numpy arr\n",
    "import numpy as np\n",
    "list2=[[10,23,45,40],[45,76,32,78],[54,64,12,89],[12,2,34,45]]\n",
    "ny1=np.array(list2)\n",
    "ny1.sort()\n",
    "ny1"
   ]
  },
  {
   "cell_type": "code",
   "execution_count": 68,
   "id": "fdf9524e-82ca-4ff4-b0fe-8268f7c788d0",
   "metadata": {},
   "outputs": [
    {
     "name": "stdout",
     "output_type": "stream",
     "text": [
      "[10 23 45 40 45 76 32 78 54 64 12 89 12  2 34 45]\n"
     ]
    }
   ],
   "source": [
    "#flatten numpy arr\n",
    "import numpy as np\n",
    "list2=[[10,23,45,40],[45,76,32,78],[54,64,12,89],[12,2,34,45]]\n",
    "ny1=np.array(list2)\n",
    "print(ny1.flatten())"
   ]
  },
  {
   "cell_type": "code",
   "execution_count": 50,
   "id": "99f114e4-b68b-44c8-9958-89307d060c51",
   "metadata": {},
   "outputs": [
    {
     "name": "stdout",
     "output_type": "stream",
     "text": [
      "[[12 25 47 42]\n",
      " [47 78 34 80]\n",
      " [56 66 14 91]\n",
      " [14  4 36 47]]\n"
     ]
    }
   ],
   "source": [
    "#add value \n",
    "import numpy as np\n",
    "list2=[[10,23,45,40],[45,76,32,78],[54,64,12,89],[12,2,34,45]]\n",
    "ny1=np.array(list2)\n",
    "print(ny1+2)"
   ]
  },
  {
   "cell_type": "code",
   "execution_count": 52,
   "id": "ec50c4b7-2708-41c5-8a64-05bf4f17064f",
   "metadata": {},
   "outputs": [
    {
     "data": {
      "text/plain": [
       "array([10, 76, 12, 45])"
      ]
     },
     "execution_count": 52,
     "metadata": {},
     "output_type": "execute_result"
    }
   ],
   "source": [
    "#diagonal if matrix\n",
    "import numpy as np\n",
    "list2=[[10,23,45,40],[45,76,32,78],[54,64,12,89],[12,2,34,45]]\n",
    "ny1=np.array(list2)\n",
    "ny1.diagonal()"
   ]
  },
  {
   "cell_type": "code",
   "execution_count": 54,
   "id": "a1e76c3f-1c81-4396-b993-c441c9e57314",
   "metadata": {},
   "outputs": [
    {
     "data": {
      "text/plain": [
       "143"
      ]
     },
     "execution_count": 54,
     "metadata": {},
     "output_type": "execute_result"
    }
   ],
   "source": [
    "#trace\n",
    "import numpy as np\n",
    "list2=[[10,23,45,40],[45,76,32,78],[54,64,12,89],[12,2,34,45]]\n",
    "ny1=np.array(list2)\n",
    "ny1.trace()"
   ]
  },
  {
   "cell_type": "code",
   "execution_count": 67,
   "id": "6897b869-5d6b-445e-b7a8-577219d51df2",
   "metadata": {},
   "outputs": [
    {
     "data": {
      "text/plain": [
       "array([[ 87,  55,  88],\n",
       "       [ 55,  66,  99],\n",
       "       [157,  57, 110]])"
      ]
     },
     "execution_count": 67,
     "metadata": {},
     "output_type": "execute_result"
    }
   ],
   "source": [
    "#adding and subtraction matrix\n",
    "import numpy as np\n",
    "matrix1=[[11,23,45],[43,23,45],[67,34,56]]\n",
    "matrix2=[[76,32,43],[12,43,54],[90,23,54]]\n",
    "matrix_a=np.array(matrix1)\n",
    "matrix_b=np.array(matrix2)\n",
    "\n",
    "np.add(matrix_a,matrix_b)"
   ]
  },
  {
   "cell_type": "code",
   "execution_count": 66,
   "id": "68f41bee-5e57-4c79-9ce7-56cd8e36adeb",
   "metadata": {},
   "outputs": [
    {
     "data": {
      "text/plain": [
       "array([[-65,  -9,   2],\n",
       "       [ 31, -20,  -9],\n",
       "       [-23,  11,   2]])"
      ]
     },
     "execution_count": 66,
     "metadata": {},
     "output_type": "execute_result"
    }
   ],
   "source": [
    "import numpy as np\n",
    "matrix1=[[11,23,45],[43,23,45],[67,34,56]]\n",
    "matrix2=[[76,32,43],[12,43,54],[90,23,54]]\n",
    "matrix_a=np.array(matrix1)\n",
    "matrix_b=np.array(matrix2)\n",
    "\n",
    "np.subtract(matrix_a,matrix_b)"
   ]
  },
  {
   "cell_type": "code",
   "execution_count": 64,
   "id": "6b5dcff7-9cc7-434f-8e19-864f24e51f20",
   "metadata": {},
   "outputs": [
    {
     "data": {
      "text/plain": [
       "array([[ 87,  55,  88],\n",
       "       [ 55,  66,  99],\n",
       "       [157,  57, 110]])"
      ]
     },
     "execution_count": 64,
     "metadata": {},
     "output_type": "execute_result"
    }
   ],
   "source": [
    "#sum\n",
    "import numpy as np\n",
    "matrix1=[[11,23,45],[43,23,45],[67,34,56]]\n",
    "matrix2=[[76,32,43],[12,43,54],[90,23,54]]\n",
    "matrix_a=np.array(matrix1)\n",
    "matrix_b=np.array(matrix2)\n",
    "matrix_a+matrix_b"
   ]
  },
  {
   "cell_type": "code",
   "execution_count": 63,
   "id": "b83403a3-6cf5-4a77-95cf-8127c74553cc",
   "metadata": {},
   "outputs": [
    {
     "data": {
      "text/plain": [
       "array([[-65,  -9,   2],\n",
       "       [ 31, -20,  -9],\n",
       "       [-23,  11,   2]])"
      ]
     },
     "execution_count": 63,
     "metadata": {},
     "output_type": "execute_result"
    }
   ],
   "source": [
    "#subtract\n",
    "import numpy as np\n",
    "matrix1=[[11,23,45],[43,23,45],[67,34,56]]\n",
    "matrix2=[[76,32,43],[12,43,54],[90,23,54]]\n",
    "matrix_a=np.array(matrix1)\n",
    "matrix_b=np.array(matrix2)\n",
    "matrix_a-matrix_b"
   ]
  },
  {
   "cell_type": "code",
   "execution_count": null,
   "id": "6d7b3b46-5033-4a70-96e8-fccd3b8c8d22",
   "metadata": {},
   "outputs": [],
   "source": []
  }
 ],
 "metadata": {
  "kernelspec": {
   "display_name": "Python 3 (ipykernel)",
   "language": "python",
   "name": "python3"
  },
  "language_info": {
   "codemirror_mode": {
    "name": "ipython",
    "version": 3
   },
   "file_extension": ".py",
   "mimetype": "text/x-python",
   "name": "python",
   "nbconvert_exporter": "python",
   "pygments_lexer": "ipython3",
   "version": "3.12.3"
  }
 },
 "nbformat": 4,
 "nbformat_minor": 5
}
